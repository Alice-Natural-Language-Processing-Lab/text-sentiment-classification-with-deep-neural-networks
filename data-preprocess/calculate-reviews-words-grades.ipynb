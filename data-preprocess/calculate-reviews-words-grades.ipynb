{
 "cells": [
  {
   "cell_type": "code",
   "execution_count": 1,
   "metadata": {
    "collapsed": true
   },
   "outputs": [],
   "source": [
    "from pymongo import MongoClient\n",
    "import pandas as pd\n",
    "import numpy as np\n"
   ]
  },
  {
   "cell_type": "code",
   "execution_count": 3,
   "metadata": {
    "collapsed": true
   },
   "outputs": [],
   "source": [
    "top5CollsTrip = [\"barcelona\", \"dublin\", \"amsterdam\", \"athens\", \"berlin\"]\n",
    "top5CollsTrip = [i+\"Tripadvisor\" for i in top5CollsTrip]\n",
    "top5CollsBooking = [\"edinburgh\", \"dublin\", \"manchester\", \"barcelona\", \"berlin\"]\n",
    "top5CollsBooking = [i+\"Booking\" for i in top5CollsBooking]"
   ]
  },
  {
   "cell_type": "code",
   "execution_count": 6,
   "metadata": {},
   "outputs": [],
   "source": [
    "# connect to the db\n",
    "client = MongoClient()\n",
    "db = client.sentimentAnalysis\n",
    "\n",
    "def getCollection(collName = \"\"):\n",
    "    '''\n",
    "    return pandas dataframe.\n",
    "    '''\n",
    "    cursor = db[collName].find({})\n",
    "    df = pd.DataFrame(list(cursor))\n",
    "    return df\n",
    "    \n",
    "    \n",
    "    "
   ]
  },
  {
   "cell_type": "code",
   "execution_count": 7,
   "metadata": {
    "collapsed": true
   },
   "outputs": [],
   "source": [
    "BarcelonaTripDF = getCollection(top5CollsTrip[0])"
   ]
  },
  {
   "cell_type": "code",
   "execution_count": 8,
   "metadata": {},
   "outputs": [
    {
     "data": {
      "text/plain": [
       "(3072, 11)"
      ]
     },
     "execution_count": 8,
     "metadata": {},
     "output_type": "execute_result"
    }
   ],
   "source": [
    "BarcelonaTripDF.shape"
   ]
  },
  {
   "cell_type": "code",
   "execution_count": 10,
   "metadata": {},
   "outputs": [
    {
     "data": {
      "text/html": [
       "<div>\n",
       "<style>\n",
       "    .dataframe thead tr:only-child th {\n",
       "        text-align: right;\n",
       "    }\n",
       "\n",
       "    .dataframe thead th {\n",
       "        text-align: left;\n",
       "    }\n",
       "\n",
       "    .dataframe tbody tr th {\n",
       "        vertical-align: top;\n",
       "    }\n",
       "</style>\n",
       "<table border=\"1\" class=\"dataframe\">\n",
       "  <thead>\n",
       "    <tr style=\"text-align: right;\">\n",
       "      <th></th>\n",
       "      <th>_id</th>\n",
       "      <th>date</th>\n",
       "      <th>hotelLocation</th>\n",
       "      <th>hotelName</th>\n",
       "      <th>hotelStars</th>\n",
       "      <th>hotelUrl</th>\n",
       "      <th>review</th>\n",
       "      <th>score</th>\n",
       "      <th>title</th>\n",
       "      <th>url</th>\n",
       "      <th>userId</th>\n",
       "    </tr>\n",
       "  </thead>\n",
       "  <tbody>\n",
       "    <tr>\n",
       "      <th>0</th>\n",
       "      <td>5987192c9b1f26681686008e</td>\n",
       "      <td>July 31, 2017</td>\n",
       "      <td>Carrer Elisabets 11, 08001 Barcelona, Spain</td>\n",
       "      <td>Casa Camper Hotel Barcelona</td>\n",
       "      <td>4.0</td>\n",
       "      <td>https://www.tripadvisor.com/Hotel_Review-g1874...</td>\n",
       "      <td>It truly felt like coming home when we came th...</td>\n",
       "      <td>5.0</td>\n",
       "      <td>SO SO Happy to Be BACK!</td>\n",
       "      <td>https://www.tripadvisor.com/ShowUserReviews-g1...</td>\n",
       "      <td>Lili1012</td>\n",
       "    </tr>\n",
       "    <tr>\n",
       "      <th>1</th>\n",
       "      <td>5987192e9b1f26681686008f</td>\n",
       "      <td>July 26, 2017</td>\n",
       "      <td>Carrer Elisabets 11, 08001 Barcelona, Spain</td>\n",
       "      <td>Casa Camper Hotel Barcelona</td>\n",
       "      <td>4.0</td>\n",
       "      <td>https://www.tripadvisor.com/Hotel_Review-g1874...</td>\n",
       "      <td>Perfect place to stay in Barcelona.. We spent ...</td>\n",
       "      <td>5.0</td>\n",
       "      <td>Perfect</td>\n",
       "      <td>https://www.tripadvisor.com/ShowUserReviews-g1...</td>\n",
       "      <td>AimamKaur</td>\n",
       "    </tr>\n",
       "    <tr>\n",
       "      <th>2</th>\n",
       "      <td>598719309b1f266816860090</td>\n",
       "      <td>July 26, 2017</td>\n",
       "      <td>Carrer Elisabets 11, 08001 Barcelona, Spain</td>\n",
       "      <td>Casa Camper Hotel Barcelona</td>\n",
       "      <td>4.0</td>\n",
       "      <td>https://www.tripadvisor.com/Hotel_Review-g1874...</td>\n",
       "      <td>This hotel is ideally placed within reasonable...</td>\n",
       "      <td>5.0</td>\n",
       "      <td>Nothing was too much trouble</td>\n",
       "      <td>https://www.tripadvisor.com/ShowUserReviews-g1...</td>\n",
       "      <td>Tisketsmum</td>\n",
       "    </tr>\n",
       "  </tbody>\n",
       "</table>\n",
       "</div>"
      ],
      "text/plain": [
       "                        _id           date  \\\n",
       "0  5987192c9b1f26681686008e  July 31, 2017   \n",
       "1  5987192e9b1f26681686008f  July 26, 2017   \n",
       "2  598719309b1f266816860090  July 26, 2017   \n",
       "\n",
       "                                 hotelLocation                      hotelName  \\\n",
       "0  Carrer Elisabets 11, 08001 Barcelona, Spain   Casa Camper Hotel Barcelona    \n",
       "1  Carrer Elisabets 11, 08001 Barcelona, Spain   Casa Camper Hotel Barcelona    \n",
       "2  Carrer Elisabets 11, 08001 Barcelona, Spain   Casa Camper Hotel Barcelona    \n",
       "\n",
       "  hotelStars                                           hotelUrl  \\\n",
       "0        4.0  https://www.tripadvisor.com/Hotel_Review-g1874...   \n",
       "1        4.0  https://www.tripadvisor.com/Hotel_Review-g1874...   \n",
       "2        4.0  https://www.tripadvisor.com/Hotel_Review-g1874...   \n",
       "\n",
       "                                              review  score  \\\n",
       "0  It truly felt like coming home when we came th...    5.0   \n",
       "1  Perfect place to stay in Barcelona.. We spent ...    5.0   \n",
       "2  This hotel is ideally placed within reasonable...    5.0   \n",
       "\n",
       "                          title  \\\n",
       "0       SO SO Happy to Be BACK!   \n",
       "1                       Perfect   \n",
       "2  Nothing was too much trouble   \n",
       "\n",
       "                                                 url      userId  \n",
       "0  https://www.tripadvisor.com/ShowUserReviews-g1...    Lili1012  \n",
       "1  https://www.tripadvisor.com/ShowUserReviews-g1...   AimamKaur  \n",
       "2  https://www.tripadvisor.com/ShowUserReviews-g1...  Tisketsmum  "
      ]
     },
     "execution_count": 10,
     "metadata": {},
     "output_type": "execute_result"
    }
   ],
   "source": [
    "BarcelonaTripDF[:3]"
   ]
  },
  {
   "cell_type": "code",
   "execution_count": 23,
   "metadata": {},
   "outputs": [],
   "source": [
    "# calculate the number of words in each reviews data and then add it as a new column\n",
    "from nltk.tokenize.regexp import WhitespaceTokenizer\n",
    "reviewsLen = list()\n",
    "bagWords = list()\n",
    "def calculateWordCount(review = \"\"):\n",
    "    tokens = WhitespaceTokenizer().tokenize(review)\n",
    "    reviewLen = len(tokens)\n",
    "    reviewsLen.append(reviewLen)\n",
    "    bagWords.append(tokens)\n",
    "\n",
    "for i in BarcelonaTripDF[\"review\"]:\n",
    "    calculateWordCount(i)"
   ]
  },
  {
   "cell_type": "code",
   "execution_count": 25,
   "metadata": {},
   "outputs": [
    {
     "data": {
      "text/plain": [
       "3072"
      ]
     },
     "execution_count": 25,
     "metadata": {},
     "output_type": "execute_result"
    }
   ],
   "source": [
    "len(reviewsLen)"
   ]
  },
  {
   "cell_type": "code",
   "execution_count": 28,
   "metadata": {},
   "outputs": [
    {
     "name": "stdout",
     "output_type": "stream",
     "text": [
      "['It', 'truly', 'felt', 'like', 'coming', 'home', 'when', 'we', 'came', 'through', 'the', 'doors', 'of', 'Casa', 'Camper!', 'We', 'were', 'just', 'a', 'wee', 'bit', 'afraid', 'that', 'things', 'might', 'have', 'changed', 'since', 'the', 'marvelous', 'Susanna', 'Martin', 'had', 'left', 'the', 'helm', 'BUT', 'she', 'had', 'trained', 'the', 'staff', 'well', 'and', 'our', 'beloved', 'Georgina', 'was', 'there', 'to', 'welcome', 'us', 'and', 'show', 'us', 'that', 'Casa', 'Camper', 'was', 'just', 'as', 'FANTABULOUS', 'as', 'ever.', 'Having', 'been', 'in', 'the', 'air', 'FOREVER', 'with', '3', 'layovers', 'all', 'I', 'wanted', 'was', 'FOOD', 'and', 'PROTEIN', 'and', 'Georgina', 'led', 'me', 'right', 'to', 'their', 'clever', \"'automat'\", 'set-up', 'where', 'I', 'scarfed', 'down', 'a', 'yummy', 'sandwich', 'wrap,', 'etc.', 'Feeling', 'revived,', 'we', 'headed', 'up', 'to', 'our', 'lovely', 'room', 'and', 'then', 'out', 'the', 'door', 'to', 'get', 'our', 'first', 'glimpse', 'of', 'Las', 'Ramblas', 'which', 'is', 'SO', 'close.', 'Casa', 'Camper', 'is', 'beautifully', 'located', 'and', 'the', 'staff', 'goes', 'out', 'of', 'its', 'way', 'to', 'give', 'you', 'info', 'on', 'wherever', 'to', 'want', 'to', 'go', 'and', 'whatever', 'you', 'want', 'to', 'see.', 'And', 'the', 'chef!', 'Well,', 'words', \"can't\", 'even', 'begin', 'to', 'describe', 'the', 'breakfasts', 'but', 'if', 'you', 'go', 'away', 'hungry', 'then', 'there', 'is', 'something', 'seriously', 'wrong', 'with', 'YOU!', 'All', 'I', 'can', 'say', 'is', 'that', 'if', 'there', 'was', 'a', 'Casa', 'Camper', 'in', 'EVERY', 'city', 'where', 'we', 'travelled', 'and', 'Georgina', 'could', 'clone', 'herself', 'then', 'I', 'would', 'never', 'have', 'to', 'research', 'our', 'hotel', 'choices', 'again.', 'This', 'is', 'a', 'no-brainer', 'in', 'my', 'book!']\n"
     ]
    }
   ],
   "source": [
    "print(bagWords[0])"
   ]
  },
  {
   "cell_type": "code",
   "execution_count": 29,
   "metadata": {},
   "outputs": [
    {
     "data": {
      "text/plain": [
       "3072"
      ]
     },
     "execution_count": 29,
     "metadata": {},
     "output_type": "execute_result"
    }
   ],
   "source": [
    "len(bagWords)"
   ]
  },
  {
   "cell_type": "code",
   "execution_count": 32,
   "metadata": {},
   "outputs": [],
   "source": [
    "\n",
    "BarcelonaTripDF[\"wordCount\"] = pd.Series(reviewsLen, index=BarcelonaTripDF.index)"
   ]
  },
  {
   "cell_type": "code",
   "execution_count": 33,
   "metadata": {},
   "outputs": [
    {
     "data": {
      "text/html": [
       "<div>\n",
       "<style>\n",
       "    .dataframe thead tr:only-child th {\n",
       "        text-align: right;\n",
       "    }\n",
       "\n",
       "    .dataframe thead th {\n",
       "        text-align: left;\n",
       "    }\n",
       "\n",
       "    .dataframe tbody tr th {\n",
       "        vertical-align: top;\n",
       "    }\n",
       "</style>\n",
       "<table border=\"1\" class=\"dataframe\">\n",
       "  <thead>\n",
       "    <tr style=\"text-align: right;\">\n",
       "      <th></th>\n",
       "      <th>_id</th>\n",
       "      <th>date</th>\n",
       "      <th>hotelLocation</th>\n",
       "      <th>hotelName</th>\n",
       "      <th>hotelStars</th>\n",
       "      <th>hotelUrl</th>\n",
       "      <th>review</th>\n",
       "      <th>score</th>\n",
       "      <th>title</th>\n",
       "      <th>url</th>\n",
       "      <th>userId</th>\n",
       "      <th>wordCount</th>\n",
       "    </tr>\n",
       "  </thead>\n",
       "  <tbody>\n",
       "    <tr>\n",
       "      <th>0</th>\n",
       "      <td>5987192c9b1f26681686008e</td>\n",
       "      <td>July 31, 2017</td>\n",
       "      <td>Carrer Elisabets 11, 08001 Barcelona, Spain</td>\n",
       "      <td>Casa Camper Hotel Barcelona</td>\n",
       "      <td>4.0</td>\n",
       "      <td>https://www.tripadvisor.com/Hotel_Review-g1874...</td>\n",
       "      <td>It truly felt like coming home when we came th...</td>\n",
       "      <td>5.0</td>\n",
       "      <td>SO SO Happy to Be BACK!</td>\n",
       "      <td>https://www.tripadvisor.com/ShowUserReviews-g1...</td>\n",
       "      <td>Lili1012</td>\n",
       "      <td>221</td>\n",
       "    </tr>\n",
       "    <tr>\n",
       "      <th>1</th>\n",
       "      <td>5987192e9b1f26681686008f</td>\n",
       "      <td>July 26, 2017</td>\n",
       "      <td>Carrer Elisabets 11, 08001 Barcelona, Spain</td>\n",
       "      <td>Casa Camper Hotel Barcelona</td>\n",
       "      <td>4.0</td>\n",
       "      <td>https://www.tripadvisor.com/Hotel_Review-g1874...</td>\n",
       "      <td>Perfect place to stay in Barcelona.. We spent ...</td>\n",
       "      <td>5.0</td>\n",
       "      <td>Perfect</td>\n",
       "      <td>https://www.tripadvisor.com/ShowUserReviews-g1...</td>\n",
       "      <td>AimamKaur</td>\n",
       "      <td>35</td>\n",
       "    </tr>\n",
       "    <tr>\n",
       "      <th>2</th>\n",
       "      <td>598719309b1f266816860090</td>\n",
       "      <td>July 26, 2017</td>\n",
       "      <td>Carrer Elisabets 11, 08001 Barcelona, Spain</td>\n",
       "      <td>Casa Camper Hotel Barcelona</td>\n",
       "      <td>4.0</td>\n",
       "      <td>https://www.tripadvisor.com/Hotel_Review-g1874...</td>\n",
       "      <td>This hotel is ideally placed within reasonable...</td>\n",
       "      <td>5.0</td>\n",
       "      <td>Nothing was too much trouble</td>\n",
       "      <td>https://www.tripadvisor.com/ShowUserReviews-g1...</td>\n",
       "      <td>Tisketsmum</td>\n",
       "      <td>103</td>\n",
       "    </tr>\n",
       "  </tbody>\n",
       "</table>\n",
       "</div>"
      ],
      "text/plain": [
       "                        _id           date  \\\n",
       "0  5987192c9b1f26681686008e  July 31, 2017   \n",
       "1  5987192e9b1f26681686008f  July 26, 2017   \n",
       "2  598719309b1f266816860090  July 26, 2017   \n",
       "\n",
       "                                 hotelLocation                      hotelName  \\\n",
       "0  Carrer Elisabets 11, 08001 Barcelona, Spain   Casa Camper Hotel Barcelona    \n",
       "1  Carrer Elisabets 11, 08001 Barcelona, Spain   Casa Camper Hotel Barcelona    \n",
       "2  Carrer Elisabets 11, 08001 Barcelona, Spain   Casa Camper Hotel Barcelona    \n",
       "\n",
       "  hotelStars                                           hotelUrl  \\\n",
       "0        4.0  https://www.tripadvisor.com/Hotel_Review-g1874...   \n",
       "1        4.0  https://www.tripadvisor.com/Hotel_Review-g1874...   \n",
       "2        4.0  https://www.tripadvisor.com/Hotel_Review-g1874...   \n",
       "\n",
       "                                              review  score  \\\n",
       "0  It truly felt like coming home when we came th...    5.0   \n",
       "1  Perfect place to stay in Barcelona.. We spent ...    5.0   \n",
       "2  This hotel is ideally placed within reasonable...    5.0   \n",
       "\n",
       "                          title  \\\n",
       "0       SO SO Happy to Be BACK!   \n",
       "1                       Perfect   \n",
       "2  Nothing was too much trouble   \n",
       "\n",
       "                                                 url      userId  wordCount  \n",
       "0  https://www.tripadvisor.com/ShowUserReviews-g1...    Lili1012        221  \n",
       "1  https://www.tripadvisor.com/ShowUserReviews-g1...   AimamKaur         35  \n",
       "2  https://www.tripadvisor.com/ShowUserReviews-g1...  Tisketsmum        103  "
      ]
     },
     "execution_count": 33,
     "metadata": {},
     "output_type": "execute_result"
    }
   ],
   "source": [
    "BarcelonaTripDF[:3]"
   ]
  },
  {
   "cell_type": "code",
   "execution_count": 34,
   "metadata": {},
   "outputs": [
    {
     "data": {
      "text/html": [
       "<div>\n",
       "<style>\n",
       "    .dataframe thead tr:only-child th {\n",
       "        text-align: right;\n",
       "    }\n",
       "\n",
       "    .dataframe thead th {\n",
       "        text-align: left;\n",
       "    }\n",
       "\n",
       "    .dataframe tbody tr th {\n",
       "        vertical-align: top;\n",
       "    }\n",
       "</style>\n",
       "<table border=\"1\" class=\"dataframe\">\n",
       "  <thead>\n",
       "    <tr style=\"text-align: right;\">\n",
       "      <th></th>\n",
       "      <th>score</th>\n",
       "      <th>wordCount</th>\n",
       "    </tr>\n",
       "  </thead>\n",
       "  <tbody>\n",
       "    <tr>\n",
       "      <th>count</th>\n",
       "      <td>3072.000000</td>\n",
       "      <td>3072.000000</td>\n",
       "    </tr>\n",
       "    <tr>\n",
       "      <th>mean</th>\n",
       "      <td>4.235026</td>\n",
       "      <td>112.020833</td>\n",
       "    </tr>\n",
       "    <tr>\n",
       "      <th>std</th>\n",
       "      <td>1.053488</td>\n",
       "      <td>97.174382</td>\n",
       "    </tr>\n",
       "    <tr>\n",
       "      <th>min</th>\n",
       "      <td>1.000000</td>\n",
       "      <td>25.000000</td>\n",
       "    </tr>\n",
       "    <tr>\n",
       "      <th>25%</th>\n",
       "      <td>4.000000</td>\n",
       "      <td>49.000000</td>\n",
       "    </tr>\n",
       "    <tr>\n",
       "      <th>50%</th>\n",
       "      <td>5.000000</td>\n",
       "      <td>80.000000</td>\n",
       "    </tr>\n",
       "    <tr>\n",
       "      <th>75%</th>\n",
       "      <td>5.000000</td>\n",
       "      <td>138.000000</td>\n",
       "    </tr>\n",
       "    <tr>\n",
       "      <th>max</th>\n",
       "      <td>5.000000</td>\n",
       "      <td>1339.000000</td>\n",
       "    </tr>\n",
       "  </tbody>\n",
       "</table>\n",
       "</div>"
      ],
      "text/plain": [
       "             score    wordCount\n",
       "count  3072.000000  3072.000000\n",
       "mean      4.235026   112.020833\n",
       "std       1.053488    97.174382\n",
       "min       1.000000    25.000000\n",
       "25%       4.000000    49.000000\n",
       "50%       5.000000    80.000000\n",
       "75%       5.000000   138.000000\n",
       "max       5.000000  1339.000000"
      ]
     },
     "execution_count": 34,
     "metadata": {},
     "output_type": "execute_result"
    }
   ],
   "source": [
    "BarcelonaTripDF.describe()"
   ]
  },
  {
   "cell_type": "code",
   "execution_count": 36,
   "metadata": {},
   "outputs": [
    {
     "ename": "TypeError",
     "evalue": "arg must be a list, tuple, 1-d array, or Series",
     "output_type": "error",
     "traceback": [
      "\u001b[0;31m---------------------------------------------------------------------------\u001b[0m",
      "\u001b[0;31mTypeError\u001b[0m                                 Traceback (most recent call last)",
      "\u001b[0;32m<ipython-input-36-36767b461e8f>\u001b[0m in \u001b[0;36m<module>\u001b[0;34m()\u001b[0m\n\u001b[0;32m----> 1\u001b[0;31m \u001b[0mpd\u001b[0m\u001b[0;34m.\u001b[0m\u001b[0mto_numeric\u001b[0m\u001b[0;34m(\u001b[0m\u001b[0mBarcelonaTripDF\u001b[0m\u001b[0;34m,\u001b[0m \u001b[0merrors\u001b[0m\u001b[0;34m=\u001b[0m\u001b[0;34m\"ignore\"\u001b[0m\u001b[0;34m)\u001b[0m\u001b[0;34m\u001b[0m\u001b[0m\n\u001b[0m",
      "\u001b[0;32m~/anaconda3/lib/python3.5/site-packages/pandas/core/tools/numeric.py\u001b[0m in \u001b[0;36mto_numeric\u001b[0;34m(arg, errors, downcast)\u001b[0m\n\u001b[1;32m    111\u001b[0m         \u001b[0mvalues\u001b[0m \u001b[0;34m=\u001b[0m \u001b[0mnp\u001b[0m\u001b[0;34m.\u001b[0m\u001b[0marray\u001b[0m\u001b[0;34m(\u001b[0m\u001b[0;34m[\u001b[0m\u001b[0marg\u001b[0m\u001b[0;34m]\u001b[0m\u001b[0;34m,\u001b[0m \u001b[0mdtype\u001b[0m\u001b[0;34m=\u001b[0m\u001b[0;34m'O'\u001b[0m\u001b[0;34m)\u001b[0m\u001b[0;34m\u001b[0m\u001b[0m\n\u001b[1;32m    112\u001b[0m     \u001b[0;32melif\u001b[0m \u001b[0mgetattr\u001b[0m\u001b[0;34m(\u001b[0m\u001b[0marg\u001b[0m\u001b[0;34m,\u001b[0m \u001b[0;34m'ndim'\u001b[0m\u001b[0;34m,\u001b[0m \u001b[0;36m1\u001b[0m\u001b[0;34m)\u001b[0m \u001b[0;34m>\u001b[0m \u001b[0;36m1\u001b[0m\u001b[0;34m:\u001b[0m\u001b[0;34m\u001b[0m\u001b[0m\n\u001b[0;32m--> 113\u001b[0;31m         \u001b[0;32mraise\u001b[0m \u001b[0mTypeError\u001b[0m\u001b[0;34m(\u001b[0m\u001b[0;34m'arg must be a list, tuple, 1-d array, or Series'\u001b[0m\u001b[0;34m)\u001b[0m\u001b[0;34m\u001b[0m\u001b[0m\n\u001b[0m\u001b[1;32m    114\u001b[0m     \u001b[0;32melse\u001b[0m\u001b[0;34m:\u001b[0m\u001b[0;34m\u001b[0m\u001b[0m\n\u001b[1;32m    115\u001b[0m         \u001b[0mvalues\u001b[0m \u001b[0;34m=\u001b[0m \u001b[0marg\u001b[0m\u001b[0;34m\u001b[0m\u001b[0m\n",
      "\u001b[0;31mTypeError\u001b[0m: arg must be a list, tuple, 1-d array, or Series"
     ]
    }
   ],
   "source": [
    "pd.to_numeric(BarcelonaTripDF, errors=\"ignore\")"
   ]
  },
  {
   "cell_type": "code",
   "execution_count": 37,
   "metadata": {},
   "outputs": [
    {
     "data": {
      "text/plain": [
       "_id               object\n",
       "date              object\n",
       "hotelLocation     object\n",
       "hotelName         object\n",
       "hotelStars        object\n",
       "hotelUrl          object\n",
       "review            object\n",
       "score            float64\n",
       "title             object\n",
       "url               object\n",
       "userId            object\n",
       "wordCount          int64\n",
       "dtype: object"
      ]
     },
     "execution_count": 37,
     "metadata": {},
     "output_type": "execute_result"
    }
   ],
   "source": [
    "BarcelonaTripDF.dtypes"
   ]
  },
  {
   "cell_type": "code",
   "execution_count": 43,
   "metadata": {},
   "outputs": [],
   "source": [
    "BarcelonaTripDF = BarcelonaTripDF.astype(dtype={\"hotelStars\": float}, copy=False)"
   ]
  },
  {
   "cell_type": "code",
   "execution_count": 44,
   "metadata": {},
   "outputs": [
    {
     "data": {
      "text/plain": [
       "_id               object\n",
       "date              object\n",
       "hotelLocation     object\n",
       "hotelName         object\n",
       "hotelStars       float64\n",
       "hotelUrl          object\n",
       "review            object\n",
       "score            float64\n",
       "title             object\n",
       "url               object\n",
       "userId            object\n",
       "wordCount          int64\n",
       "dtype: object"
      ]
     },
     "execution_count": 44,
     "metadata": {},
     "output_type": "execute_result"
    }
   ],
   "source": [
    "BarcelonaTripDF.dtypes"
   ]
  },
  {
   "cell_type": "code",
   "execution_count": 45,
   "metadata": {},
   "outputs": [
    {
     "data": {
      "text/html": [
       "<div>\n",
       "<style>\n",
       "    .dataframe thead tr:only-child th {\n",
       "        text-align: right;\n",
       "    }\n",
       "\n",
       "    .dataframe thead th {\n",
       "        text-align: left;\n",
       "    }\n",
       "\n",
       "    .dataframe tbody tr th {\n",
       "        vertical-align: top;\n",
       "    }\n",
       "</style>\n",
       "<table border=\"1\" class=\"dataframe\">\n",
       "  <thead>\n",
       "    <tr style=\"text-align: right;\">\n",
       "      <th></th>\n",
       "      <th>hotelStars</th>\n",
       "      <th>score</th>\n",
       "      <th>wordCount</th>\n",
       "    </tr>\n",
       "  </thead>\n",
       "  <tbody>\n",
       "    <tr>\n",
       "      <th>count</th>\n",
       "      <td>3072.000000</td>\n",
       "      <td>3072.000000</td>\n",
       "      <td>3072.000000</td>\n",
       "    </tr>\n",
       "    <tr>\n",
       "      <th>mean</th>\n",
       "      <td>3.795898</td>\n",
       "      <td>4.235026</td>\n",
       "      <td>112.020833</td>\n",
       "    </tr>\n",
       "    <tr>\n",
       "      <th>std</th>\n",
       "      <td>0.891460</td>\n",
       "      <td>1.053488</td>\n",
       "      <td>97.174382</td>\n",
       "    </tr>\n",
       "    <tr>\n",
       "      <th>min</th>\n",
       "      <td>1.000000</td>\n",
       "      <td>1.000000</td>\n",
       "      <td>25.000000</td>\n",
       "    </tr>\n",
       "    <tr>\n",
       "      <th>25%</th>\n",
       "      <td>3.000000</td>\n",
       "      <td>4.000000</td>\n",
       "      <td>49.000000</td>\n",
       "    </tr>\n",
       "    <tr>\n",
       "      <th>50%</th>\n",
       "      <td>4.000000</td>\n",
       "      <td>5.000000</td>\n",
       "      <td>80.000000</td>\n",
       "    </tr>\n",
       "    <tr>\n",
       "      <th>75%</th>\n",
       "      <td>4.000000</td>\n",
       "      <td>5.000000</td>\n",
       "      <td>138.000000</td>\n",
       "    </tr>\n",
       "    <tr>\n",
       "      <th>max</th>\n",
       "      <td>5.000000</td>\n",
       "      <td>5.000000</td>\n",
       "      <td>1339.000000</td>\n",
       "    </tr>\n",
       "  </tbody>\n",
       "</table>\n",
       "</div>"
      ],
      "text/plain": [
       "        hotelStars        score    wordCount\n",
       "count  3072.000000  3072.000000  3072.000000\n",
       "mean      3.795898     4.235026   112.020833\n",
       "std       0.891460     1.053488    97.174382\n",
       "min       1.000000     1.000000    25.000000\n",
       "25%       3.000000     4.000000    49.000000\n",
       "50%       4.000000     5.000000    80.000000\n",
       "75%       4.000000     5.000000   138.000000\n",
       "max       5.000000     5.000000  1339.000000"
      ]
     },
     "execution_count": 45,
     "metadata": {},
     "output_type": "execute_result"
    }
   ],
   "source": [
    "BarcelonaTripDF.describe()"
   ]
  },
  {
   "cell_type": "code",
   "execution_count": 46,
   "metadata": {
    "collapsed": true
   },
   "outputs": [],
   "source": [
    "import matplotlib.pyplot as plt"
   ]
  },
  {
   "cell_type": "code",
   "execution_count": 49,
   "metadata": {},
   "outputs": [
    {
     "data": {
      "image/png": "[encoded data removed]",
      "text/plain": [
       "<matplotlib.figure.Figure at 0x7f1089101be0>"
      ]
     },
     "metadata": {},
     "output_type": "display_data"
    },
    {
     "data": {
      "image/png": "[encoded data removed]",
      "text/plain": [
       "<matplotlib.figure.Figure at 0x7f10890c66d8>"
      ]
     },
     "metadata": {},
     "output_type": "display_data"
    },
    {
     "data": {
      "image/png": "[encoded data removed]",
      "text/plain": [
       "<matplotlib.figure.Figure at 0x7f1089082a20>"
      ]
     },
     "metadata": {},
     "output_type": "display_data"
    }
   ],
   "source": [
    "plt.boxplot(BarcelonaTripDF[\"hotelStars\"])\n",
    "plt.show()\n",
    "plt.boxplot(BarcelonaTripDF[\"score\"])\n",
    "plt.show()\n",
    "plt.boxplot(BarcelonaTripDF[\"wordCount\"])\n",
    "plt.show()"
   ]
  },
  {
   "cell_type": "code",
   "execution_count": null,
   "metadata": {
    "collapsed": true
   },
   "outputs": [],
   "source": [
    "for i in BarcelonaTripDF.iterrows():"
   ]
  },
  {
   "cell_type": "code",
   "execution_count": 18,
   "metadata": {},
   "outputs": [
    {
     "data": {
      "text/html": [
       "<div>\n",
       "<style>\n",
       "    .dataframe thead tr:only-child th {\n",
       "        text-align: right;\n",
       "    }\n",
       "\n",
       "    .dataframe thead th {\n",
       "        text-align: left;\n",
       "    }\n",
       "\n",
       "    .dataframe tbody tr th {\n",
       "        vertical-align: top;\n",
       "    }\n",
       "</style>\n",
       "<table border=\"1\" class=\"dataframe\">\n",
       "  <thead>\n",
       "    <tr style=\"text-align: right;\">\n",
       "      <th></th>\n",
       "      <th>score</th>\n",
       "    </tr>\n",
       "  </thead>\n",
       "  <tbody>\n",
       "    <tr>\n",
       "      <th>count</th>\n",
       "      <td>3072.000000</td>\n",
       "    </tr>\n",
       "    <tr>\n",
       "      <th>mean</th>\n",
       "      <td>4.235026</td>\n",
       "    </tr>\n",
       "    <tr>\n",
       "      <th>std</th>\n",
       "      <td>1.053488</td>\n",
       "    </tr>\n",
       "    <tr>\n",
       "      <th>min</th>\n",
       "      <td>1.000000</td>\n",
       "    </tr>\n",
       "    <tr>\n",
       "      <th>25%</th>\n",
       "      <td>4.000000</td>\n",
       "    </tr>\n",
       "    <tr>\n",
       "      <th>50%</th>\n",
       "      <td>5.000000</td>\n",
       "    </tr>\n",
       "    <tr>\n",
       "      <th>75%</th>\n",
       "      <td>5.000000</td>\n",
       "    </tr>\n",
       "    <tr>\n",
       "      <th>max</th>\n",
       "      <td>5.000000</td>\n",
       "    </tr>\n",
       "  </tbody>\n",
       "</table>\n",
       "</div>"
      ],
      "text/plain": [
       "             score\n",
       "count  3072.000000\n",
       "mean      4.235026\n",
       "std       1.053488\n",
       "min       1.000000\n",
       "25%       4.000000\n",
       "50%       5.000000\n",
       "75%       5.000000\n",
       "max       5.000000"
      ]
     },
     "execution_count": 18,
     "metadata": {},
     "output_type": "execute_result"
    }
   ],
   "source": [
    "type(BarcelonaTripDF.describe())\n",
    "BarcelonaTripDF.describe()"
   ]
  },
  {
   "cell_type": "code",
   "execution_count": 14,
   "metadata": {
    "scrolled": true
   },
   "outputs": [
    {
     "data": {
      "text/html": [
       "<div>\n",
       "<style>\n",
       "    .dataframe thead tr:only-child th {\n",
       "        text-align: right;\n",
       "    }\n",
       "\n",
       "    .dataframe thead th {\n",
       "        text-align: left;\n",
       "    }\n",
       "\n",
       "    .dataframe tbody tr th {\n",
       "        vertical-align: top;\n",
       "    }\n",
       "</style>\n",
       "<table border=\"1\" class=\"dataframe\">\n",
       "  <thead>\n",
       "    <tr style=\"text-align: right;\">\n",
       "      <th></th>\n",
       "      <th>count</th>\n",
       "      <th>mean</th>\n",
       "      <th>std</th>\n",
       "      <th>min</th>\n",
       "      <th>25%</th>\n",
       "      <th>50%</th>\n",
       "      <th>75%</th>\n",
       "      <th>max</th>\n",
       "    </tr>\n",
       "  </thead>\n",
       "  <tbody>\n",
       "    <tr>\n",
       "      <th>score</th>\n",
       "      <td>3072.0</td>\n",
       "      <td>4.235026</td>\n",
       "      <td>1.053488</td>\n",
       "      <td>1.0</td>\n",
       "      <td>4.0</td>\n",
       "      <td>5.0</td>\n",
       "      <td>5.0</td>\n",
       "      <td>5.0</td>\n",
       "    </tr>\n",
       "  </tbody>\n",
       "</table>\n",
       "</div>"
      ],
      "text/plain": [
       "        count      mean       std  min  25%  50%  75%  max\n",
       "score  3072.0  4.235026  1.053488  1.0  4.0  5.0  5.0  5.0"
      ]
     },
     "execution_count": 14,
     "metadata": {},
     "output_type": "execute_result"
    }
   ],
   "source": [
    "BarcelonaTripDF.describe().transpose()"
   ]
  },
  {
   "cell_type": "code",
   "execution_count": 16,
   "metadata": {},
   "outputs": [
    {
     "data": {
      "text/plain": [
       "count     3072\n",
       "unique       7\n",
       "top        4.0\n",
       "freq      1393\n",
       "Name: hotelStars, dtype: object"
      ]
     },
     "execution_count": 16,
     "metadata": {},
     "output_type": "execute_result"
    }
   ],
   "source": [
    "BarcelonaTripDF[\"hotelStars\"].describe().transpose()"
   ]
  },
  {
   "cell_type": "code",
   "execution_count": null,
   "metadata": {
    "collapsed": true
   },
   "outputs": [],
   "source": [
    "# add another column which is the number of words in reviews\n"
   ]
  },
  {
   "cell_type": "code",
   "execution_count": null,
   "metadata": {
    "collapsed": true
   },
   "outputs": [],
   "source": [
    "# define a dataframe, columns = [\"collection name\", \"count\", \"mean\", \"std\", \"min\", \"max\", \"score_1\", \"score_2\",\n",
    "# \"score_3\", \"score_4\", ]\n"
   ]
  },
  {
   "cell_type": "code",
   "execution_count": null,
   "metadata": {
    "collapsed": true
   },
   "outputs": [],
   "source": [
    "def calculate_grades(gradesList=[]):\n",
    "# send back the box plot graph.\n",
    "    \n",
    "    return avg, mean, \n",
    "\n",
    "    "
   ]
  }
 ],
 "metadata": {
  "kernelspec": {
   "display_name": "Python 3",
   "language": "python",
   "name": "python3"
  },
  "language_info": {
   "codemirror_mode": {
    "name": "ipython",
    "version": 3
   },
   "file_extension": ".py",
   "mimetype": "text/x-python",
   "name": "python",
   "nbconvert_exporter": "python",
   "pygments_lexer": "ipython3",
   "version": "3.5.3"
  }
 },
 "nbformat": 4,
 "nbformat_minor": 2
}
