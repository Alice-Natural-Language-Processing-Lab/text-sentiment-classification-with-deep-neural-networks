{
 "cells": [
  {
   "cell_type": "code",
   "execution_count": 1,
   "metadata": {
    "collapsed": true
   },
   "outputs": [],
   "source": [
    "from pymongo import MongoClient\n",
    "import pandas as pd\n",
    "import numpy as np\n",
    "from nltk.tokenize.regexp import WhitespaceTokenizer\n",
    "from datetime import datetime as dt\n",
    "import matplotlib.pyplot as plt"
   ]
  },
  {
   "cell_type": "code",
   "execution_count": 2,
   "metadata": {
    "collapsed": true
   },
   "outputs": [],
   "source": [
    "top5CollsTrip = [\"barcelona\", \"dublin\", \"amsterdam\", \"athens\", \"berlin\"]\n",
    "top5CollsTrip = [i+\"Tripadvisor\" for i in top5CollsTrip]\n",
    "top5CollsBooking = [\"edinburgh\", \"dublin\", \"manchester\", \"barcelona\", \"berlin\"]\n",
    "top5CollsBooking = [i+\"Booking\" for i in top5CollsBooking]"
   ]
  },
  {
   "cell_type": "code",
   "execution_count": 3,
   "metadata": {
    "collapsed": true
   },
   "outputs": [],
   "source": [
    "# connect to the db\n",
    "client = MongoClient()\n",
    "db = client.sentimentAnalysis"
   ]
  },
  {
   "cell_type": "code",
   "execution_count": 4,
   "metadata": {
    "collapsed": true
   },
   "outputs": [],
   "source": [
    "def getCollection(collName = \"\"):\n",
    "    '''\n",
    "    return pandas dataframe.\n",
    "    '''\n",
    "    cursor = db[collName].find({})\n",
    "    df = pd.DataFrame(list(cursor))\n",
    "    return df"
   ]
  },
  {
   "cell_type": "code",
   "execution_count": 5,
   "metadata": {
    "collapsed": true
   },
   "outputs": [],
   "source": [
    "# BarcelonaTripDF = getCollection(top5CollsTrip[0])"
   ]
  },
  {
   "cell_type": "code",
   "execution_count": 6,
   "metadata": {
    "collapsed": true
   },
   "outputs": [],
   "source": [
    "def convertDate(stringDate):\n",
    "    '''\n",
    "    convert string date format into python comparable striptime format\n",
    "    '''\n",
    "    return dt.strptime(stringDate, \"%B %d, %Y\")\n",
    "\n",
    "\n",
    "\n",
    "def calculateStatistics(collDF):\n",
    "    '''\n",
    "    input parameter is dataframe of one specific collection\n",
    "    return includes three different variables\n",
    "    '''\n",
    "    # calculate the number of words in each reviews data and then add it as a new column\n",
    "    reviewsLen = list()\n",
    "    bagWords = list()\n",
    "    def calculateWordCount(review = \"\"):\n",
    "        tokens = WhitespaceTokenizer().tokenize(review)\n",
    "        reviewLen = len(tokens)\n",
    "        reviewsLen.append(reviewLen)\n",
    "        bagWords.append(tokens)\n",
    "\n",
    "    for i in collDF[\"review\"]:\n",
    "#         print(i)\n",
    "        calculateWordCount(i)\n",
    "    collDF[\"wordCount\"] = pd.Series(reviewsLen, index=collDF.index)\n",
    "    collDF = collDF.astype(dtype={\"hotelStars\": float}, copy=False)\n",
    "    \n",
    "    \n",
    "    \n",
    "        # group Barcelona collection review data by hotel, and then get basic statistics for each hotel.\n",
    "    hotelsStatList = list()\n",
    "    for hotelurl, group in collDF.groupby(\"hotelName\"):\n",
    "    #     print(hotelurl)\n",
    "        reviewNum = len(group)\n",
    "        reviewsDateList = group[\"date\"].apply(convertDate)\n",
    "        earliestDate = min(reviewsDateList)\n",
    "        latestDate = max(reviewsDateList)\n",
    "        hotelsStat = [hotelurl, reviewNum, earliestDate, latestDate]\n",
    "        hotelsStatList.append(hotelsStat)\n",
    "    hotelsStatDF = pd.DataFrame(hotelsStatList, columns=[\"hotelName\", \"reviewCount\", \"earliestDate\", \"latestDate\"])\n",
    "    \n",
    "#     this variable returns hotels in that cities statistics\n",
    "    hotelsStatDF = hotelsStatDF.sort_values(by=\"reviewCount\", ascending=False)\n",
    "    \n",
    "    return hotelsStatDF, collDF, bagWords"
   ]
  },
  {
   "cell_type": "code",
   "execution_count": 7,
   "metadata": {
    "collapsed": true
   },
   "outputs": [],
   "source": [
    "def drawBoxplot(reviewsDF):\n",
    "    flt1 = plt.figure()\n",
    "    ax1 = flt1.add_subplot(111)\n",
    "    ax1.set_ylabel(\"hotels category stars\")\n",
    "    ax1.set_title(\"Barcelona Tripadvisor.com\")\n",
    "    ax1.boxplot(BarcelonaTripDF[\"hotelStars\"])\n",
    "    flt1.show()\n",
    "    plt.show()\n",
    "    \n",
    "    flt2 = plt.figure()\n",
    "    ax2 = flt2.add_subplot(111)\n",
    "    ax2.set_ylabel(\"review grades\")\n",
    "    ax2.set_title(\"Barcelona Tripadvisor.com\")\n",
    "    ax2.boxplot(BarcelonaTripDF[\"score\"])\n",
    "    flt2.show()\n",
    "    plt.show()\n",
    "    \n",
    "    flt3 = plt.figure()\n",
    "    ax3 = flt3.add_subplot(111)\n",
    "    ax3.set_ylabel(\"review word count\")\n",
    "    ax3.set_title(\"Barcelona Tripadvisor.com\")\n",
    "    ax3.boxplot(BarcelonaTripDF[\"wordCount\"])\n",
    "    flt3.show()\n",
    "    plt.show()"
   ]
  },
  {
   "cell_type": "code",
   "execution_count": 8,
   "metadata": {},
   "outputs": [],
   "source": [
    "# hotelsStatDF, collDF, bagWords = calculateStatistics(BarcelonaTripDF)"
   ]
  },
  {
   "cell_type": "code",
   "execution_count": 9,
   "metadata": {},
   "outputs": [],
   "source": [
    "# scoresPercentile = collDF[\"score\"].value_counts(normalize=True) * 100"
   ]
  },
  {
   "cell_type": "code",
   "execution_count": 10,
   "metadata": {
    "collapsed": true
   },
   "outputs": [],
   "source": [
    "# DublinTripDF = getCollection(top5CollsTrip[1])\n",
    "# AmsterdamTripDF = getCollection(top5CollsTrip[2])\n",
    "# AthensTripDF = getCollection(top5CollsTrip[3])\n",
    "# BerlinTripDF = getCollection(top5CollsTrip[4])"
   ]
  },
  {
   "cell_type": "code",
   "execution_count": 11,
   "metadata": {
    "collapsed": true
   },
   "outputs": [],
   "source": [
    "scoresPercent = list()\n",
    "allCitiesCollDF = list()\n",
    "allBagWords = list()\n",
    "def calculateEachCity(cityName):\n",
    "    hotelsStatDF, collDF, bagWords = calculateStatistics(getCollection(cityName))\n",
    "    scoresPercentThisCity = collDF[\"score\"].value_counts(normalize=True).values * 100\n",
    "    scoresPercent.append(scoresPercentThisCity)\n",
    "    allCitiesCollDF.append(collDF)\n",
    "    allBagWords.append(bagWords)"
   ]
  },
  {
   "cell_type": "code",
   "execution_count": 12,
   "metadata": {},
   "outputs": [],
   "source": [
    "for i in top5CollsTrip:\n",
    "    calculateEachCity(i)"
   ]
  },
  {
   "cell_type": "code",
   "execution_count": 13,
   "metadata": {},
   "outputs": [
    {
     "data": {
      "text/plain": [
       "list"
      ]
     },
     "execution_count": 13,
     "metadata": {},
     "output_type": "execute_result"
    }
   ],
   "source": [
    "type(scoresPercent)"
   ]
  },
  {
   "cell_type": "code",
   "execution_count": 14,
   "metadata": {},
   "outputs": [
    {
     "data": {
      "text/plain": [
       "[array([ 54.4921875 ,  26.33463542,  11.03515625,   4.45963542,   3.67838542]),\n",
       " array([ 49.75352113,  28.52112676,  12.14788732,   5.63380282,   3.94366197]),\n",
       " array([ 53.8585209 ,  29.26045016,   9.96784566,   3.49678457,   3.41639871]),\n",
       " array([ 49.5008808 ,  31.35642983,  11.39166177,   4.05167352,   3.69935408]),\n",
       " array([ 44.20828905,  32.73113709,  13.07120085,   6.48246546,   3.50690755])]"
      ]
     },
     "execution_count": 14,
     "metadata": {},
     "output_type": "execute_result"
    }
   ],
   "source": [
    "scoresPercent"
   ]
  },
  {
   "cell_type": "code",
   "execution_count": 15,
   "metadata": {
    "collapsed": true
   },
   "outputs": [],
   "source": [
    "scoresPercent = np.array(scoresPercent).T.tolist()"
   ]
  },
  {
   "cell_type": "code",
   "execution_count": 16,
   "metadata": {},
   "outputs": [
    {
     "data": {
      "text/plain": [
       "[[54.4921875,\n",
       "  49.75352112676056,\n",
       "  53.85852090032154,\n",
       "  49.50088079859072,\n",
       "  44.208289054197664],\n",
       " [26.334635416666668,\n",
       "  28.52112676056338,\n",
       "  29.260450160771708,\n",
       "  31.356429829712273,\n",
       "  32.731137088204036],\n",
       " [11.03515625,\n",
       "  12.147887323943662,\n",
       "  9.967845659163988,\n",
       "  11.391661773341163,\n",
       "  13.071200850159407],\n",
       " [4.459635416666666,\n",
       "  5.633802816901409,\n",
       "  3.4967845659163985,\n",
       "  4.051673517322373,\n",
       "  6.482465462274177],\n",
       " [3.6783854166666665,\n",
       "  3.943661971830986,\n",
       "  3.4163987138263665,\n",
       "  3.69935408103347,\n",
       "  3.5069075451647183]]"
      ]
     },
     "execution_count": 16,
     "metadata": {},
     "output_type": "execute_result"
    }
   ],
   "source": [
    "scoresPercent"
   ]
  },
  {
   "cell_type": "code",
   "execution_count": null,
   "metadata": {
    "collapsed": true
   },
   "outputs": [],
   "source": []
  },
  {
   "cell_type": "code",
   "execution_count": 17,
   "metadata": {
    "scrolled": true
   },
   "outputs": [
    {
     "data": {
      "image/png": "[encoded data removed]",
      "text/plain": [
       "<matplotlib.figure.Figure at 0x7f7cc30844a8>"
      ]
     },
     "metadata": {},
     "output_type": "display_data"
    }
   ],
   "source": [
    "# draw the bar score distribution on these five cities\n",
    "N = 5\n",
    "ind = np.arange(N)\n",
    "width = 0.1\n",
    "barWidth = 0.1\n",
    "\n",
    "ax = plt.subplot(111)\n",
    "colors = [\"r\", \"b\", \"g\", \"y\", \"m\"]\n",
    "\n",
    "rects0 = ax.bar(ind, list(scoresPercent[0]), barWidth, color=colors[0])\n",
    "rects1 = plt.bar(ind+width, list(scoresPercent[1]), barWidth, color=colors[1])\n",
    "rects2 = plt.bar(ind+width*2, list(scoresPercent[2]), barWidth, color=colors[2])\n",
    "rects3 = plt.bar(ind+width*3, list(scoresPercent[3]), barWidth, color=colors[3])\n",
    "rects4 = plt.bar(ind+width*4, list(scoresPercent[4]), barWidth, color=colors[4])\n",
    "ax.set_ylabel(\"percentile\")\n",
    "ax.set_xticks(ind+width)\n",
    "ax.set_xticklabels((\"barcelona\", \"dublin\", \"amsterdam\", \"athens\", \"berlin\"))\n",
    "ax.legend((rects0[0], rects1[0], rects2[0], rects3[0], rects4[0]), \n",
    "            ('5 score', '4 score', '3 score', '2 score', '1 score', '0 score'))\n",
    "\n",
    "# def autolabel(rects):\n",
    "#     for rect in rects:\n",
    "#         h = rect.get_height()\n",
    "#         ax.text(rect.get_x()+rect.get_width()/2., 1.05*h, '%d'%int(h),\n",
    "#                 ha='center', va='bottom')\n",
    "\n",
    "# autolabel(rects0)\n",
    "# autolabel(rects1)\n",
    "# autolabel(rects2)\n",
    "# autolabel(rects3)\n",
    "# autolabel(rects4)\n",
    "plt.tight_layout()\n",
    "plt.show()"
   ]
  },
  {
   "cell_type": "code",
   "execution_count": null,
   "metadata": {
    "collapsed": true
   },
   "outputs": [],
   "source": [
    "# "
   ]
  },
  {
   "cell_type": "code",
   "execution_count": null,
   "metadata": {
    "collapsed": true
   },
   "outputs": [],
   "source": [
    "# strong variation."
   ]
  },
  {
   "cell_type": "code",
   "execution_count": 135,
   "metadata": {},
   "outputs": [
    {
     "data": {
      "text/html": [
       "<div>\n",
       "<style>\n",
       "    .dataframe thead tr:only-child th {\n",
       "        text-align: right;\n",
       "    }\n",
       "\n",
       "    .dataframe thead th {\n",
       "        text-align: left;\n",
       "    }\n",
       "\n",
       "    .dataframe tbody tr th {\n",
       "        vertical-align: top;\n",
       "    }\n",
       "</style>\n",
       "<table border=\"1\" class=\"dataframe\">\n",
       "  <thead>\n",
       "    <tr style=\"text-align: right;\">\n",
       "      <th></th>\n",
       "      <th>hotelName</th>\n",
       "      <th>reviewCount</th>\n",
       "      <th>earliestDate</th>\n",
       "      <th>latestDate</th>\n",
       "    </tr>\n",
       "  </thead>\n",
       "  <tbody>\n",
       "    <tr>\n",
       "      <th>155</th>\n",
       "      <td>Hotel Arts Barcelona</td>\n",
       "      <td>75</td>\n",
       "      <td>2017-07-11</td>\n",
       "      <td>2017-08-09</td>\n",
       "    </tr>\n",
       "    <tr>\n",
       "      <th>130</th>\n",
       "      <td>Hilton Diagonal Mar Barcelona</td>\n",
       "      <td>72</td>\n",
       "      <td>2017-07-11</td>\n",
       "      <td>2017-08-12</td>\n",
       "    </tr>\n",
       "    <tr>\n",
       "      <th>106</th>\n",
       "      <td>Grand Hotel Central</td>\n",
       "      <td>72</td>\n",
       "      <td>2017-07-05</td>\n",
       "      <td>2017-08-12</td>\n",
       "    </tr>\n",
       "  </tbody>\n",
       "</table>\n",
       "</div>"
      ],
      "text/plain": [
       "                           hotelName  reviewCount earliestDate latestDate\n",
       "155            Hotel Arts Barcelona            75   2017-07-11 2017-08-09\n",
       "130   Hilton Diagonal Mar Barcelona            72   2017-07-11 2017-08-12\n",
       "106             Grand Hotel Central            72   2017-07-05 2017-08-12"
      ]
     },
     "execution_count": 135,
     "metadata": {},
     "output_type": "execute_result"
    }
   ],
   "source": [
    "hotelsStatDF[:3]"
   ]
  },
  {
   "cell_type": "code",
   "execution_count": 133,
   "metadata": {},
   "outputs": [
    {
     "data": {
      "text/html": [
       "<div>\n",
       "<style>\n",
       "    .dataframe thead tr:only-child th {\n",
       "        text-align: right;\n",
       "    }\n",
       "\n",
       "    .dataframe thead th {\n",
       "        text-align: left;\n",
       "    }\n",
       "\n",
       "    .dataframe tbody tr th {\n",
       "        vertical-align: top;\n",
       "    }\n",
       "</style>\n",
       "<table border=\"1\" class=\"dataframe\">\n",
       "  <thead>\n",
       "    <tr style=\"text-align: right;\">\n",
       "      <th></th>\n",
       "      <th>_id</th>\n",
       "      <th>date</th>\n",
       "      <th>hotelLocation</th>\n",
       "      <th>hotelName</th>\n",
       "      <th>hotelStars</th>\n",
       "      <th>hotelUrl</th>\n",
       "      <th>review</th>\n",
       "      <th>score</th>\n",
       "      <th>title</th>\n",
       "      <th>url</th>\n",
       "      <th>userId</th>\n",
       "      <th>wordCount</th>\n",
       "    </tr>\n",
       "  </thead>\n",
       "  <tbody>\n",
       "    <tr>\n",
       "      <th>0</th>\n",
       "      <td>5987192c9b1f26681686008e</td>\n",
       "      <td>July 31, 2017</td>\n",
       "      <td>Carrer Elisabets 11, 08001 Barcelona, Spain</td>\n",
       "      <td>Casa Camper Hotel Barcelona</td>\n",
       "      <td>4.0</td>\n",
       "      <td>https://www.tripadvisor.com/Hotel_Review-g1874...</td>\n",
       "      <td>It truly felt like coming home when we came th...</td>\n",
       "      <td>5.0</td>\n",
       "      <td>SO SO Happy to Be BACK!</td>\n",
       "      <td>https://www.tripadvisor.com/ShowUserReviews-g1...</td>\n",
       "      <td>Lili1012</td>\n",
       "      <td>221</td>\n",
       "    </tr>\n",
       "    <tr>\n",
       "      <th>1</th>\n",
       "      <td>5987192e9b1f26681686008f</td>\n",
       "      <td>July 26, 2017</td>\n",
       "      <td>Carrer Elisabets 11, 08001 Barcelona, Spain</td>\n",
       "      <td>Casa Camper Hotel Barcelona</td>\n",
       "      <td>4.0</td>\n",
       "      <td>https://www.tripadvisor.com/Hotel_Review-g1874...</td>\n",
       "      <td>Perfect place to stay in Barcelona.. We spent ...</td>\n",
       "      <td>5.0</td>\n",
       "      <td>Perfect</td>\n",
       "      <td>https://www.tripadvisor.com/ShowUserReviews-g1...</td>\n",
       "      <td>AimamKaur</td>\n",
       "      <td>35</td>\n",
       "    </tr>\n",
       "    <tr>\n",
       "      <th>2</th>\n",
       "      <td>598719309b1f266816860090</td>\n",
       "      <td>July 26, 2017</td>\n",
       "      <td>Carrer Elisabets 11, 08001 Barcelona, Spain</td>\n",
       "      <td>Casa Camper Hotel Barcelona</td>\n",
       "      <td>4.0</td>\n",
       "      <td>https://www.tripadvisor.com/Hotel_Review-g1874...</td>\n",
       "      <td>This hotel is ideally placed within reasonable...</td>\n",
       "      <td>5.0</td>\n",
       "      <td>Nothing was too much trouble</td>\n",
       "      <td>https://www.tripadvisor.com/ShowUserReviews-g1...</td>\n",
       "      <td>Tisketsmum</td>\n",
       "      <td>103</td>\n",
       "    </tr>\n",
       "  </tbody>\n",
       "</table>\n",
       "</div>"
      ],
      "text/plain": [
       "                        _id           date  \\\n",
       "0  5987192c9b1f26681686008e  July 31, 2017   \n",
       "1  5987192e9b1f26681686008f  July 26, 2017   \n",
       "2  598719309b1f266816860090  July 26, 2017   \n",
       "\n",
       "                                 hotelLocation                      hotelName  \\\n",
       "0  Carrer Elisabets 11, 08001 Barcelona, Spain   Casa Camper Hotel Barcelona    \n",
       "1  Carrer Elisabets 11, 08001 Barcelona, Spain   Casa Camper Hotel Barcelona    \n",
       "2  Carrer Elisabets 11, 08001 Barcelona, Spain   Casa Camper Hotel Barcelona    \n",
       "\n",
       "   hotelStars                                           hotelUrl  \\\n",
       "0         4.0  https://www.tripadvisor.com/Hotel_Review-g1874...   \n",
       "1         4.0  https://www.tripadvisor.com/Hotel_Review-g1874...   \n",
       "2         4.0  https://www.tripadvisor.com/Hotel_Review-g1874...   \n",
       "\n",
       "                                              review  score  \\\n",
       "0  It truly felt like coming home when we came th...    5.0   \n",
       "1  Perfect place to stay in Barcelona.. We spent ...    5.0   \n",
       "2  This hotel is ideally placed within reasonable...    5.0   \n",
       "\n",
       "                          title  \\\n",
       "0       SO SO Happy to Be BACK!   \n",
       "1                       Perfect   \n",
       "2  Nothing was too much trouble   \n",
       "\n",
       "                                                 url      userId  wordCount  \n",
       "0  https://www.tripadvisor.com/ShowUserReviews-g1...    Lili1012        221  \n",
       "1  https://www.tripadvisor.com/ShowUserReviews-g1...   AimamKaur         35  \n",
       "2  https://www.tripadvisor.com/ShowUserReviews-g1...  Tisketsmum        103  "
      ]
     },
     "execution_count": 133,
     "metadata": {},
     "output_type": "execute_result"
    }
   ],
   "source": [
    "BarcelonaTripDF[:3]"
   ]
  },
  {
   "cell_type": "code",
   "execution_count": null,
   "metadata": {
    "collapsed": true
   },
   "outputs": [],
   "source": []
  },
  {
   "cell_type": "code",
   "execution_count": 153,
   "metadata": {},
   "outputs": [
    {
     "name": "stderr",
     "output_type": "stream",
     "text": [
      "/home/yi/anaconda3/lib/python3.5/site-packages/matplotlib/figure.py:403: UserWarning: matplotlib is currently using a non-GUI backend, so cannot show the figure\n",
      "  \"matplotlib is currently using a non-GUI backend, \"\n"
     ]
    },
    {
     "data": {
      "image/png": "[encoded data removed]",
      "text/plain": [
       "<matplotlib.figure.Figure at 0x7f1076ca5c18>"
      ]
     },
     "metadata": {},
     "output_type": "display_data"
    }
   ],
   "source": []
  },
  {
   "cell_type": "code",
   "execution_count": 150,
   "metadata": {},
   "outputs": [
    {
     "name": "stderr",
     "output_type": "stream",
     "text": [
      "/home/yi/anaconda3/lib/python3.5/site-packages/matplotlib/figure.py:403: UserWarning: matplotlib is currently using a non-GUI backend, so cannot show the figure\n",
      "  \"matplotlib is currently using a non-GUI backend, \"\n"
     ]
    },
    {
     "data": {
      "image/png": "[encoded data removed]",
      "text/plain": [
       "<matplotlib.figure.Figure at 0x7f1076d78320>"
      ]
     },
     "metadata": {},
     "output_type": "display_data"
    }
   ],
   "source": []
  },
  {
   "cell_type": "code",
   "execution_count": 151,
   "metadata": {},
   "outputs": [
    {
     "name": "stderr",
     "output_type": "stream",
     "text": [
      "/home/yi/anaconda3/lib/python3.5/site-packages/matplotlib/figure.py:403: UserWarning: matplotlib is currently using a non-GUI backend, so cannot show the figure\n",
      "  \"matplotlib is currently using a non-GUI backend, \"\n"
     ]
    },
    {
     "data": {
      "image/png": "[encoded data removed]",
      "text/plain": [
       "<matplotlib.figure.Figure at 0x7f1076cc7c88>"
      ]
     },
     "metadata": {},
     "output_type": "display_data"
    }
   ],
   "source": []
  },
  {
   "cell_type": "code",
   "execution_count": 71,
   "metadata": {},
   "outputs": [
    {
     "data": {
      "text/plain": [
       "(3072, 11)"
      ]
     },
     "execution_count": 71,
     "metadata": {},
     "output_type": "execute_result"
    }
   ],
   "source": [
    "BarcelonaTripDF.shape"
   ]
  },
  {
   "cell_type": "code",
   "execution_count": 78,
   "metadata": {},
   "outputs": [
    {
     "data": {
      "text/html": [
       "<div>\n",
       "<style>\n",
       "    .dataframe thead tr:only-child th {\n",
       "        text-align: right;\n",
       "    }\n",
       "\n",
       "    .dataframe thead th {\n",
       "        text-align: left;\n",
       "    }\n",
       "\n",
       "    .dataframe tbody tr th {\n",
       "        vertical-align: top;\n",
       "    }\n",
       "</style>\n",
       "<table border=\"1\" class=\"dataframe\">\n",
       "  <thead>\n",
       "    <tr style=\"text-align: right;\">\n",
       "      <th></th>\n",
       "      <th>_id</th>\n",
       "      <th>date</th>\n",
       "      <th>hotelLocation</th>\n",
       "      <th>hotelName</th>\n",
       "      <th>hotelStars</th>\n",
       "      <th>hotelUrl</th>\n",
       "      <th>review</th>\n",
       "      <th>score</th>\n",
       "      <th>title</th>\n",
       "      <th>url</th>\n",
       "      <th>userId</th>\n",
       "      <th>wordCount</th>\n",
       "    </tr>\n",
       "  </thead>\n",
       "  <tbody>\n",
       "    <tr>\n",
       "      <th>0</th>\n",
       "      <td>5987192c9b1f26681686008e</td>\n",
       "      <td>July 31, 2017</td>\n",
       "      <td>Carrer Elisabets 11, 08001 Barcelona, Spain</td>\n",
       "      <td>Casa Camper Hotel Barcelona</td>\n",
       "      <td>4.0</td>\n",
       "      <td>https://www.tripadvisor.com/Hotel_Review-g1874...</td>\n",
       "      <td>It truly felt like coming home when we came th...</td>\n",
       "      <td>5.0</td>\n",
       "      <td>SO SO Happy to Be BACK!</td>\n",
       "      <td>https://www.tripadvisor.com/ShowUserReviews-g1...</td>\n",
       "      <td>Lili1012</td>\n",
       "      <td>221</td>\n",
       "    </tr>\n",
       "    <tr>\n",
       "      <th>1</th>\n",
       "      <td>5987192e9b1f26681686008f</td>\n",
       "      <td>July 26, 2017</td>\n",
       "      <td>Carrer Elisabets 11, 08001 Barcelona, Spain</td>\n",
       "      <td>Casa Camper Hotel Barcelona</td>\n",
       "      <td>4.0</td>\n",
       "      <td>https://www.tripadvisor.com/Hotel_Review-g1874...</td>\n",
       "      <td>Perfect place to stay in Barcelona.. We spent ...</td>\n",
       "      <td>5.0</td>\n",
       "      <td>Perfect</td>\n",
       "      <td>https://www.tripadvisor.com/ShowUserReviews-g1...</td>\n",
       "      <td>AimamKaur</td>\n",
       "      <td>35</td>\n",
       "    </tr>\n",
       "    <tr>\n",
       "      <th>2</th>\n",
       "      <td>598719309b1f266816860090</td>\n",
       "      <td>July 26, 2017</td>\n",
       "      <td>Carrer Elisabets 11, 08001 Barcelona, Spain</td>\n",
       "      <td>Casa Camper Hotel Barcelona</td>\n",
       "      <td>4.0</td>\n",
       "      <td>https://www.tripadvisor.com/Hotel_Review-g1874...</td>\n",
       "      <td>This hotel is ideally placed within reasonable...</td>\n",
       "      <td>5.0</td>\n",
       "      <td>Nothing was too much trouble</td>\n",
       "      <td>https://www.tripadvisor.com/ShowUserReviews-g1...</td>\n",
       "      <td>Tisketsmum</td>\n",
       "      <td>103</td>\n",
       "    </tr>\n",
       "  </tbody>\n",
       "</table>\n",
       "</div>"
      ],
      "text/plain": [
       "                        _id           date  \\\n",
       "0  5987192c9b1f26681686008e  July 31, 2017   \n",
       "1  5987192e9b1f26681686008f  July 26, 2017   \n",
       "2  598719309b1f266816860090  July 26, 2017   \n",
       "\n",
       "                                 hotelLocation                      hotelName  \\\n",
       "0  Carrer Elisabets 11, 08001 Barcelona, Spain   Casa Camper Hotel Barcelona    \n",
       "1  Carrer Elisabets 11, 08001 Barcelona, Spain   Casa Camper Hotel Barcelona    \n",
       "2  Carrer Elisabets 11, 08001 Barcelona, Spain   Casa Camper Hotel Barcelona    \n",
       "\n",
       "  hotelStars                                           hotelUrl  \\\n",
       "0        4.0  https://www.tripadvisor.com/Hotel_Review-g1874...   \n",
       "1        4.0  https://www.tripadvisor.com/Hotel_Review-g1874...   \n",
       "2        4.0  https://www.tripadvisor.com/Hotel_Review-g1874...   \n",
       "\n",
       "                                              review  score  \\\n",
       "0  It truly felt like coming home when we came th...    5.0   \n",
       "1  Perfect place to stay in Barcelona.. We spent ...    5.0   \n",
       "2  This hotel is ideally placed within reasonable...    5.0   \n",
       "\n",
       "                          title  \\\n",
       "0       SO SO Happy to Be BACK!   \n",
       "1                       Perfect   \n",
       "2  Nothing was too much trouble   \n",
       "\n",
       "                                                 url      userId  wordCount  \n",
       "0  https://www.tripadvisor.com/ShowUserReviews-g1...    Lili1012        221  \n",
       "1  https://www.tripadvisor.com/ShowUserReviews-g1...   AimamKaur         35  \n",
       "2  https://www.tripadvisor.com/ShowUserReviews-g1...  Tisketsmum        103  "
      ]
     },
     "execution_count": 78,
     "metadata": {},
     "output_type": "execute_result"
    }
   ],
   "source": [
    "BarcelonaTripDF[:3]"
   ]
  },
  {
   "cell_type": "code",
   "execution_count": 75,
   "metadata": {},
   "outputs": [
    {
     "name": "stdout",
     "output_type": "stream",
     "text": [
      "['It', 'truly', 'felt', 'like', 'coming', 'home', 'when', 'we', 'came', 'through', 'the', 'doors', 'of', 'Casa', 'Camper!', 'We', 'were', 'just', 'a', 'wee', 'bit', 'afraid', 'that', 'things', 'might', 'have', 'changed', 'since', 'the', 'marvelous', 'Susanna', 'Martin', 'had', 'left', 'the', 'helm', 'BUT', 'she', 'had', 'trained', 'the', 'staff', 'well', 'and', 'our', 'beloved', 'Georgina', 'was', 'there', 'to', 'welcome', 'us', 'and', 'show', 'us', 'that', 'Casa', 'Camper', 'was', 'just', 'as', 'FANTABULOUS', 'as', 'ever.', 'Having', 'been', 'in', 'the', 'air', 'FOREVER', 'with', '3', 'layovers', 'all', 'I', 'wanted', 'was', 'FOOD', 'and', 'PROTEIN', 'and', 'Georgina', 'led', 'me', 'right', 'to', 'their', 'clever', \"'automat'\", 'set-up', 'where', 'I', 'scarfed', 'down', 'a', 'yummy', 'sandwich', 'wrap,', 'etc.', 'Feeling', 'revived,', 'we', 'headed', 'up', 'to', 'our', 'lovely', 'room', 'and', 'then', 'out', 'the', 'door', 'to', 'get', 'our', 'first', 'glimpse', 'of', 'Las', 'Ramblas', 'which', 'is', 'SO', 'close.', 'Casa', 'Camper', 'is', 'beautifully', 'located', 'and', 'the', 'staff', 'goes', 'out', 'of', 'its', 'way', 'to', 'give', 'you', 'info', 'on', 'wherever', 'to', 'want', 'to', 'go', 'and', 'whatever', 'you', 'want', 'to', 'see.', 'And', 'the', 'chef!', 'Well,', 'words', \"can't\", 'even', 'begin', 'to', 'describe', 'the', 'breakfasts', 'but', 'if', 'you', 'go', 'away', 'hungry', 'then', 'there', 'is', 'something', 'seriously', 'wrong', 'with', 'YOU!', 'All', 'I', 'can', 'say', 'is', 'that', 'if', 'there', 'was', 'a', 'Casa', 'Camper', 'in', 'EVERY', 'city', 'where', 'we', 'travelled', 'and', 'Georgina', 'could', 'clone', 'herself', 'then', 'I', 'would', 'never', 'have', 'to', 'research', 'our', 'hotel', 'choices', 'again.', 'This', 'is', 'a', 'no-brainer', 'in', 'my', 'book!']\n"
     ]
    }
   ],
   "source": [
    "print(bagWords[0])"
   ]
  },
  {
   "cell_type": "code",
   "execution_count": 83,
   "metadata": {},
   "outputs": [
    {
     "data": {
      "text/plain": [
       "_id               object\n",
       "date              object\n",
       "hotelLocation     object\n",
       "hotelName         object\n",
       "hotelStars       float64\n",
       "hotelUrl          object\n",
       "review            object\n",
       "score            float64\n",
       "title             object\n",
       "url               object\n",
       "userId            object\n",
       "wordCount          int64\n",
       "dtype: object"
      ]
     },
     "execution_count": 83,
     "metadata": {},
     "output_type": "execute_result"
    }
   ],
   "source": [
    "BarcelonaTripDF.dtypes"
   ]
  },
  {
   "cell_type": "code",
   "execution_count": 84,
   "metadata": {},
   "outputs": [
    {
     "data": {
      "text/html": [
       "<div>\n",
       "<style>\n",
       "    .dataframe thead tr:only-child th {\n",
       "        text-align: right;\n",
       "    }\n",
       "\n",
       "    .dataframe thead th {\n",
       "        text-align: left;\n",
       "    }\n",
       "\n",
       "    .dataframe tbody tr th {\n",
       "        vertical-align: top;\n",
       "    }\n",
       "</style>\n",
       "<table border=\"1\" class=\"dataframe\">\n",
       "  <thead>\n",
       "    <tr style=\"text-align: right;\">\n",
       "      <th></th>\n",
       "      <th>hotelStars</th>\n",
       "      <th>score</th>\n",
       "      <th>wordCount</th>\n",
       "    </tr>\n",
       "  </thead>\n",
       "  <tbody>\n",
       "    <tr>\n",
       "      <th>count</th>\n",
       "      <td>3072.000000</td>\n",
       "      <td>3072.000000</td>\n",
       "      <td>3072.000000</td>\n",
       "    </tr>\n",
       "    <tr>\n",
       "      <th>mean</th>\n",
       "      <td>3.795898</td>\n",
       "      <td>4.235026</td>\n",
       "      <td>112.020833</td>\n",
       "    </tr>\n",
       "    <tr>\n",
       "      <th>std</th>\n",
       "      <td>0.891460</td>\n",
       "      <td>1.053488</td>\n",
       "      <td>97.174382</td>\n",
       "    </tr>\n",
       "    <tr>\n",
       "      <th>min</th>\n",
       "      <td>1.000000</td>\n",
       "      <td>1.000000</td>\n",
       "      <td>25.000000</td>\n",
       "    </tr>\n",
       "    <tr>\n",
       "      <th>25%</th>\n",
       "      <td>3.000000</td>\n",
       "      <td>4.000000</td>\n",
       "      <td>49.000000</td>\n",
       "    </tr>\n",
       "    <tr>\n",
       "      <th>50%</th>\n",
       "      <td>4.000000</td>\n",
       "      <td>5.000000</td>\n",
       "      <td>80.000000</td>\n",
       "    </tr>\n",
       "    <tr>\n",
       "      <th>75%</th>\n",
       "      <td>4.000000</td>\n",
       "      <td>5.000000</td>\n",
       "      <td>138.000000</td>\n",
       "    </tr>\n",
       "    <tr>\n",
       "      <th>max</th>\n",
       "      <td>5.000000</td>\n",
       "      <td>5.000000</td>\n",
       "      <td>1339.000000</td>\n",
       "    </tr>\n",
       "  </tbody>\n",
       "</table>\n",
       "</div>"
      ],
      "text/plain": [
       "        hotelStars        score    wordCount\n",
       "count  3072.000000  3072.000000  3072.000000\n",
       "mean      3.795898     4.235026   112.020833\n",
       "std       0.891460     1.053488    97.174382\n",
       "min       1.000000     1.000000    25.000000\n",
       "25%       3.000000     4.000000    49.000000\n",
       "50%       4.000000     5.000000    80.000000\n",
       "75%       4.000000     5.000000   138.000000\n",
       "max       5.000000     5.000000  1339.000000"
      ]
     },
     "execution_count": 84,
     "metadata": {},
     "output_type": "execute_result"
    }
   ],
   "source": [
    "BarcelonaTripDF.describe()"
   ]
  },
  {
   "cell_type": "code",
   "execution_count": null,
   "metadata": {
    "collapsed": true
   },
   "outputs": [],
   "source": [
    "# add another column which tags cities name and website type."
   ]
  },
  {
   "cell_type": "code",
   "execution_count": null,
   "metadata": {
    "collapsed": true
   },
   "outputs": [],
   "source": []
  },
  {
   "cell_type": "code",
   "execution_count": null,
   "metadata": {
    "collapsed": true
   },
   "outputs": [],
   "source": [
    "# define a dataframe, columns = [\"collection name\", \"count\", \"mean\", \"std\", \"min\", \"max\", \"score_1\", \"score_2\",\n",
    "# \"score_3\", \"score_4\", ]"
   ]
  }
 ],
 "metadata": {
  "kernelspec": {
   "display_name": "Python 3",
   "language": "python",
   "name": "python3"
  },
  "language_info": {
   "codemirror_mode": {
    "name": "ipython",
    "version": 3
   },
   "file_extension": ".py",
   "mimetype": "text/x-python",
   "name": "python",
   "nbconvert_exporter": "python",
   "pygments_lexer": "ipython3",
   "version": "3.5.3"
  }
 },
 "nbformat": 4,
 "nbformat_minor": 1
}
