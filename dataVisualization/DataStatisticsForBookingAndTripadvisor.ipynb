{
 "cells": [
  {
   "cell_type": "code",
   "execution_count": 96,
   "metadata": {
    "collapsed": true
   },
   "outputs": [],
   "source": [
    "# this program calculates basic statistics data for all reviews data from all cities \n",
    "from pyspark.sql import SparkSession\n",
    "import json\n",
    "import re"
   ]
  },
  {
   "cell_type": "code",
   "execution_count": 97,
   "metadata": {
    "collapsed": true
   },
   "outputs": [],
   "source": [
    "spark = SparkSession.builder.appName(\"Statistics reviews data For Tripadvisor\").config(\n",
    "    \"spark.some.config.option\", \"tripadvisor.com\").getOrCreate()\n"
   ]
  },
  {
   "cell_type": "code",
   "execution_count": 98,
   "metadata": {
    "collapsed": true
   },
   "outputs": [],
   "source": [
    "from pyspark.sql.functions import input_file_name"
   ]
  },
  {
   "cell_type": "code",
   "execution_count": 99,
   "metadata": {
    "collapsed": true
   },
   "outputs": [],
   "source": [
    "# Booking stastistics file format: 0xx_statistics_Booking_Cityname.json\n",
    "# Tripadvisor statistics file format: 0xx_statistics_Tripadvisor_Cityname.json\n",
    "\n",
    "statData = spark.read.json(\n",
    "    \"/home/yi/Music/Sentiment-Analysis/reviewData/statistics_Tripadvisor\")"
   ]
  },
  {
   "cell_type": "code",
   "execution_count": 101,
   "metadata": {},
   "outputs": [
    {
     "name": "stdout",
     "output_type": "stream",
     "text": [
      "root\n",
      " |-- 1.0 score: long (nullable = true)\n",
      " |-- 2.0 score: long (nullable = true)\n",
      " |-- 3.0 score: long (nullable = true)\n",
      " |-- 4.0 score: long (nullable = true)\n",
      " |-- 5.0 score: long (nullable = true)\n",
      " |-- avgReviewNumAHotel: double (nullable = true)\n",
      " |-- avgScore: double (nullable = true)\n",
      " |-- eachHotelDetail: array (nullable = true)\n",
      " |    |-- element: struct (containsNull = true)\n",
      " |    |    |-- 1.0 score: long (nullable = true)\n",
      " |    |    |-- 2.0 score: long (nullable = true)\n",
      " |    |    |-- 3.0 score: long (nullable = true)\n",
      " |    |    |-- 4.0 score: long (nullable = true)\n",
      " |    |    |-- 5.0 score: long (nullable = true)\n",
      " |    |    |-- avgScore: double (nullable = true)\n",
      " |    |    |-- hotelStars: string (nullable = true)\n",
      " |    |    |-- hotelUrl: string (nullable = true)\n",
      " |    |    |-- null score: long (nullable = true)\n",
      " |    |    |-- reviewsNum: long (nullable = true)\n",
      " |-- maxReviewNumAHotel: long (nullable = true)\n",
      " |-- minReviewNumAHotel: long (nullable = true)\n",
      " |-- null score: long (nullable = true)\n",
      " |-- totalHotels: long (nullable = true)\n",
      " |-- totalReviews: long (nullable = true)\n",
      "\n"
     ]
    }
   ],
   "source": [
    "statData.printSchema()"
   ]
  },
  {
   "cell_type": "code",
   "execution_count": 102,
   "metadata": {
    "collapsed": true
   },
   "outputs": [],
   "source": [
    "statDataWithCity = statData.withColumn(\"city\", input_file_name())"
   ]
  },
  {
   "cell_type": "code",
   "execution_count": 103,
   "metadata": {},
   "outputs": [
    {
     "name": "stdout",
     "output_type": "stream",
     "text": [
      "root\n",
      " |-- 1.0 score: long (nullable = true)\n",
      " |-- 2.0 score: long (nullable = true)\n",
      " |-- 3.0 score: long (nullable = true)\n",
      " |-- 4.0 score: long (nullable = true)\n",
      " |-- 5.0 score: long (nullable = true)\n",
      " |-- avgReviewNumAHotel: double (nullable = true)\n",
      " |-- avgScore: double (nullable = true)\n",
      " |-- eachHotelDetail: array (nullable = true)\n",
      " |    |-- element: struct (containsNull = true)\n",
      " |    |    |-- 1.0 score: long (nullable = true)\n",
      " |    |    |-- 2.0 score: long (nullable = true)\n",
      " |    |    |-- 3.0 score: long (nullable = true)\n",
      " |    |    |-- 4.0 score: long (nullable = true)\n",
      " |    |    |-- 5.0 score: long (nullable = true)\n",
      " |    |    |-- avgScore: double (nullable = true)\n",
      " |    |    |-- hotelStars: string (nullable = true)\n",
      " |    |    |-- hotelUrl: string (nullable = true)\n",
      " |    |    |-- null score: long (nullable = true)\n",
      " |    |    |-- reviewsNum: long (nullable = true)\n",
      " |-- maxReviewNumAHotel: long (nullable = true)\n",
      " |-- minReviewNumAHotel: long (nullable = true)\n",
      " |-- null score: long (nullable = true)\n",
      " |-- totalHotels: long (nullable = true)\n",
      " |-- totalReviews: long (nullable = true)\n",
      " |-- city: string (nullable = false)\n",
      "\n"
     ]
    }
   ],
   "source": [
    "statDataWithCity.printSchema()"
   ]
  },
  {
   "cell_type": "code",
   "execution_count": 104,
   "metadata": {
    "collapsed": true
   },
   "outputs": [],
   "source": [
    "statWithCity = statDataWithCity.drop(\"eachHotelDetail\")"
   ]
  },
  {
   "cell_type": "code",
   "execution_count": 105,
   "metadata": {
    "collapsed": true
   },
   "outputs": [],
   "source": [
    "import pandas"
   ]
  },
  {
   "cell_type": "code",
   "execution_count": 106,
   "metadata": {
    "collapsed": true
   },
   "outputs": [],
   "source": [
    "statWithCity.toPandas().to_csv(\"statistics_city_hotels_Tripadvisor.csv\")"
   ]
  },
  {
   "cell_type": "code",
   "execution_count": 4,
   "metadata": {
    "collapsed": true
   },
   "outputs": [],
   "source": [
    "totalStatistics = dict()\n",
    "totalStatistics[\"nullStars\"] = 0\n",
    "totalStatistics[\"zeroStars\"] = 0\n",
    "totalStatistics[\"oneStars\"] = 0\n",
    "totalStatistics[\"twoStars\"] = 0\n",
    "totalStatistics[\"threeStars\"] = 0\n",
    "totalStatistics[\"fourStars\"] = 0\n",
    "totalStatistics[\"fiveStars\"] = 0\n",
    "totalStatistics[\"totalHotels\"] = 0\n",
    "totalStatistics[\"totalReviews\"] = 0\n",
    "totalStatistics[\"maxReviewNumAHotel\"] = 0\n",
    "totalStatistics[\"minReviewNumAHotel\"] = 0\n",
    "totalStatistics[\"avgScore\"] = 0\n",
    "totalStatistics[\"avgReviewNumAHotel\"] = 0"
   ]
  },
  {
   "cell_type": "code",
   "execution_count": 34,
   "metadata": {
    "collapsed": true
   },
   "outputs": [],
   "source": [
    "for row in BookingStatData.collect():\n",
    "    totalStatistics[\"nullStars\"] += row[\"null stars\"]\n",
    "    totalStatistics[\"zeroStars\"] += row[\"0 stars\"]\n",
    "    totalStatistics[\"oneStars\"] += row[\"1 stars\"]\n",
    "    totalStatistics[\"twoStars\"] += row[\"2 stars\"]\n",
    "    totalStatistics[\"threeStars\"] += row[\"3 stars\"]\n",
    "    totalStatistics[\"fourStars\"] += row[\"4 stars\"]\n",
    "    totalStatistics[\"fiveStars\"] += row[\"5 stars\"]\n",
    "    totalStatistics[\"totalReviews\"] += row[\"totalReviews\"]\n",
    "    totalStatistics[\"totalHotels\"] += row[\"totalHotels\"]\n",
    "    \n",
    "    \n",
    "    if row[\"maxReviewNumAHotel\"] > totalStatistics[\"maxReviewNumAHotel\"]:\n",
    "        totalStatistics[\"maxReviewNumAHotel\"] = row[\"maxReviewNumAHotel\"]\n",
    "    "
   ]
  }
 ],
 "metadata": {
  "kernelspec": {
   "display_name": "Python 3",
   "language": "python",
   "name": "python3"
  },
  "language_info": {
   "codemirror_mode": {
    "name": "ipython",
    "version": 3
   },
   "file_extension": ".py",
   "mimetype": "text/x-python",
   "name": "python",
   "nbconvert_exporter": "python",
   "pygments_lexer": "ipython3",
   "version": "3.5.3"
  }
 },
 "nbformat": 4,
 "nbformat_minor": 2
}
