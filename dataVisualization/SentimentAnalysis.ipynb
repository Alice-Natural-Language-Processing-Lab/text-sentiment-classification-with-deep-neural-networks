{
 "cells": [
  {
   "cell_type": "code",
   "execution_count": 1,
   "metadata": {
    "collapsed": true
   },
   "outputs": [],
   "source": [
    "originData = sc.textFile(\"Amsterdam_tripadvisor.json\")"
   ]
  },
  {
   "cell_type": "code",
   "execution_count": 2,
   "metadata": {
    "collapsed": true
   },
   "outputs": [],
   "source": [
    "originDistinctData = originData.distinct()"
   ]
  },
  {
   "cell_type": "code",
   "execution_count": 3,
   "metadata": {},
   "outputs": [
    {
     "data": {
      "text/plain": [
       "PythonRDD[6] at RDD at PythonRDD.scala:48"
      ]
     },
     "execution_count": 3,
     "metadata": {},
     "output_type": "execute_result"
    }
   ],
   "source": [
    "originDistinctData"
   ]
  },
  {
   "cell_type": "code",
   "execution_count": 4,
   "metadata": {},
   "outputs": [
    {
     "data": {
      "text/plain": [
       "pyspark.rdd.PipelinedRDD"
      ]
     },
     "execution_count": 4,
     "metadata": {},
     "output_type": "execute_result"
    }
   ],
   "source": [
    "type(originDistinctData)"
   ]
  },
  {
   "cell_type": "code",
   "execution_count": 5,
   "metadata": {},
   "outputs": [
    {
     "ename": "AttributeError",
     "evalue": "'PipelinedRDD' object has no attribute 'show'",
     "output_type": "error",
     "traceback": [
      "\u001b[0;31m---------------------------------------------------------------------------\u001b[0m",
      "\u001b[0;31mAttributeError\u001b[0m                            Traceback (most recent call last)",
      "\u001b[0;32m<ipython-input-5-ca5bc9b824e5>\u001b[0m in \u001b[0;36m<module>\u001b[0;34m()\u001b[0m\n\u001b[0;32m----> 1\u001b[0;31m \u001b[0moriginDistinctData\u001b[0m\u001b[0;34m.\u001b[0m\u001b[0mshow\u001b[0m\u001b[0;34m(\u001b[0m\u001b[0;34m)\u001b[0m\u001b[0;34m\u001b[0m\u001b[0m\n\u001b[0m",
      "\u001b[0;31mAttributeError\u001b[0m: 'PipelinedRDD' object has no attribute 'show'"
     ]
    }
   ],
   "source": [
    "originDistinctData.show()"
   ]
  },
  {
   "cell_type": "code",
   "execution_count": 6,
   "metadata": {
    "collapsed": true
   },
   "outputs": [],
   "source": [
    "df = spark.read.json(\"Amsterdam_tripadvisor.json\")"
   ]
  },
  {
   "cell_type": "code",
   "execution_count": 7,
   "metadata": {},
   "outputs": [
    {
     "name": "stdout",
     "output_type": "stream",
     "text": [
      "+--------------------+-------------+--------------------+--------------------+----------+--------------------+--------------------+-----+--------------------+--------------------+---------------+\n",
      "|                 _id|         date|       hotelLocation|           hotelName|hotelStars|            hotelUrl|              review|score|               title|                 url|         userId|\n",
      "+--------------------+-------------+--------------------+--------------------+----------+--------------------+--------------------+-----+--------------------+--------------------+---------------+\n",
      "|[595ce6de9b1f2640...| July 4, 2017|Weteringschans 25...| The Amsterdam Ca...|       4.0|https://www.tripa...|\n",
      "Almost in the ci...|  5.0|Nice small hotel ...|https://www.tripa...|       Kestas G|\n",
      "|[595ce6de9b1f2640...|June 16, 2017|Weteringschans 25...| The Amsterdam Ca...|       4.0|https://www.tripa...|\n",
      "The location of ...|  3.0|Nice, but some di...|https://www.tripa...|       Alison D|\n",
      "|[595ce6de9b1f2640...|June 11, 2017|Weteringschans 25...| The Amsterdam Ca...|       4.0|https://www.tripa...|\n",
      "Fantastic Staff,...|  5.0|Very Cozy and Rom...|https://www.tripa...|          Per P|\n",
      "|[595ce6de9b1f2640...|June 17, 2017|Weteringschans 25...| The Amsterdam Ca...|       4.0|https://www.tripa...|\n",
      "We spent 5 days ...|  5.0|A Real Dutch Expe...|https://www.tripa...|       Gupta-MF|\n",
      "|[595ce6de9b1f2640...|June 21, 2017|IJDok 6, 1013 MM ...|   Room Mate Aitana |       4.0|https://www.tripa...|\n",
      "I have stayed in...|  5.0|    Spectacular View|https://www.tripa...|        66Frodo|\n",
      "|[595ce6de9b1f2640...| July 2, 2017|Nieuwezijds Voorb...| Kimpton De Witt ...|       4.0|https://www.tripa...|\n",
      "What a fabulous ...|  5.0|        Just perfect|https://www.tripa...|  LUXETrave11er|\n",
      "|[595ce6de9b1f2640...|June 30, 2017|Nieuwezijds Voorb...| Kimpton De Witt ...|       4.0|https://www.tripa...|\n",
      "I have recently ...|  5.0|Possibly the nice...|https://www.tripa...|      PhilipSeb|\n",
      "|[595ce6df9b1f2640...| July 3, 2017|Nieuwezijds Voorb...| Kimpton De Witt ...|       4.0|https://www.tripa...|\n",
      "We stayed at thi...|  5.0|  Highly recommended|https://www.tripa...|        Jaded07|\n",
      "|[595ce6df9b1f2640...| July 2, 2017|Nieuwezijds Voorb...| Kimpton De Witt ...|       4.0|https://www.tripa...|\n",
      "We stayed at the...|  4.0|A beautiful hotel...|https://www.tripa...|       SophiaVb|\n",
      "|[595ce6df9b1f2640...| July 2, 2017|Nieuwezijds Voorb...| Kimpton De Witt ...|       4.0|https://www.tripa...|\n",
      "We had only 2 ni...|  5.0|           Top Notch|https://www.tripa...|SpicedGoudaGirl|\n",
      "|[595ce6df9b1f2640...|June 22, 2017|Bellamyplein 47, ...|    Hotel De Hallen |       4.0|https://www.tripa...|\n",
      "Just back from a...|  4.0|     A great find...|https://www.tripa...|        Niamh R|\n",
      "|[595ce6df9b1f2640...|June 18, 2017|Raadhuisstraat 39...|      Clemens Hotel |       2.0|https://www.tripa...|\n",
      "Location was clo...|  4.0|     Great location!|https://www.tripa...|        Nadia T|\n",
      "|[595ce6df9b1f2640...|June 26, 2017|Nes 49, 1012 KD A...|   Hotel V Nesplein |       4.0|https://www.tripa...|\n",
      "The Hotel V Nesp...|  2.0|Beautiful hotel, ...|https://www.tripa...|      Stephen L|\n",
      "|[595ce6df9b1f2640...| July 1, 2017|Oudezijds Voorbur...| Sofitel Legend T...|       5.0|https://www.tripa...|\n",
      "We had a great t...|  5.0|             My Trip|https://www.tripa...|      Sepideh T|\n",
      "|[595ce6df9b1f2640...| July 2, 2017|Oudezijds Voorbur...| Sofitel Legend T...|       5.0|https://www.tripa...|\n",
      "We spent 5 night...|  5.0|Beautiful hotel, ...|https://www.tripa...|       Joanne C|\n",
      "|[595ce6df9b1f2640...| June 1, 2017|Oudezijds Voorbur...| Sofitel Legend T...|       5.0|https://www.tripa...|\n",
      "My wife and I st...|  5.0|      Fantastic Stay|https://www.tripa...|        James H|\n",
      "|[595ce6df9b1f2640...| July 4, 2017|Oudezijds Voorbur...| Sofitel Legend T...|       5.0|https://www.tripa...|\n",
      "Nice stay at The...|  4.0|Nice stay at The ...|https://www.tripa...| Natlovestravel|\n",
      "|[595ce6df9b1f2640...| July 4, 2017|Oudezijds Voorbur...| Sofitel Legend T...|       5.0|https://www.tripa...|\n",
      "Stayed at the So...|  5.0|Second time just ...|https://www.tripa...|      CoralReef|\n",
      "|[595ce6df9b1f2640...|June 27, 2017|Nieuwe Doelenstra...| De L'Europe Amst...|       5.0|https://www.tripa...|\n",
      "The hotel is per...|  5.0|  Wonderful location|https://www.tripa...|      Nichole S|\n",
      "|[595ce6df9b1f2640...|June 21, 2017|Nieuwe Doelenstra...| De L'Europe Amst...|       5.0|https://www.tripa...|\n",
      "i stayed 3 night...|  5.0|excellent staff a...|https://www.tripa...|      armagh222|\n",
      "+--------------------+-------------+--------------------+--------------------+----------+--------------------+--------------------+-----+--------------------+--------------------+---------------+\n",
      "only showing top 20 rows\n",
      "\n"
     ]
    }
   ],
   "source": [
    "df.show()"
   ]
  },
  {
   "cell_type": "code",
   "execution_count": 8,
   "metadata": {},
   "outputs": [
    {
     "name": "stdout",
     "output_type": "stream",
     "text": [
      "root\n",
      " |-- _id: struct (nullable = true)\n",
      " |    |-- $oid: string (nullable = true)\n",
      " |-- date: string (nullable = true)\n",
      " |-- hotelLocation: string (nullable = true)\n",
      " |-- hotelName: string (nullable = true)\n",
      " |-- hotelStars: string (nullable = true)\n",
      " |-- hotelUrl: string (nullable = true)\n",
      " |-- review: string (nullable = true)\n",
      " |-- score: double (nullable = true)\n",
      " |-- title: string (nullable = true)\n",
      " |-- url: string (nullable = true)\n",
      " |-- userId: string (nullable = true)\n",
      "\n"
     ]
    }
   ],
   "source": [
    "df.printSchema()"
   ]
  },
  {
   "cell_type": "code",
   "execution_count": 9,
   "metadata": {},
   "outputs": [
    {
     "name": "stdout",
     "output_type": "stream",
     "text": [
      "+--------------------+\n",
      "|              review|\n",
      "+--------------------+\n",
      "|\n",
      "Almost in the ci...|\n",
      "|\n",
      "The location of ...|\n",
      "|\n",
      "Fantastic Staff,...|\n",
      "|\n",
      "We spent 5 days ...|\n",
      "|\n",
      "I have stayed in...|\n",
      "|\n",
      "What a fabulous ...|\n",
      "|\n",
      "I have recently ...|\n",
      "|\n",
      "We stayed at thi...|\n",
      "|\n",
      "We stayed at the...|\n",
      "|\n",
      "We had only 2 ni...|\n",
      "|\n",
      "Just back from a...|\n",
      "|\n",
      "Location was clo...|\n",
      "|\n",
      "The Hotel V Nesp...|\n",
      "|\n",
      "We had a great t...|\n",
      "|\n",
      "We spent 5 night...|\n",
      "|\n",
      "My wife and I st...|\n",
      "|\n",
      "Nice stay at The...|\n",
      "|\n",
      "Stayed at the So...|\n",
      "|\n",
      "The hotel is per...|\n",
      "|\n",
      "i stayed 3 night...|\n",
      "+--------------------+\n",
      "only showing top 20 rows\n",
      "\n"
     ]
    }
   ],
   "source": [
    "df.select(\"review\").show()"
   ]
  },
  {
   "cell_type": "markdown",
   "metadata": {},
   "source": [
    "count the number of hotels in city - Amsterdam, each hotel has its own unique hotelurl,\n",
    "E denote a finite set of hotels"
   ]
  },
  {
   "cell_type": "code",
   "execution_count": 10,
   "metadata": {
    "collapsed": true
   },
   "outputs": [],
   "source": [
    "E = df.select(\"hotelUrl\").distinct().count()"
   ]
  },
  {
   "cell_type": "code",
   "execution_count": 11,
   "metadata": {},
   "outputs": [
    {
     "data": {
      "text/plain": [
       "356"
      ]
     },
     "execution_count": 11,
     "metadata": {},
     "output_type": "execute_result"
    }
   ],
   "source": [
    "E"
   ]
  },
  {
   "cell_type": "markdown",
   "metadata": {},
   "source": [
    "calculate covering time period for reviews, T = [ts, te], respectively ts for time start and te for time end"
   ]
  },
  {
   "cell_type": "code",
   "execution_count": 12,
   "metadata": {
    "collapsed": true
   },
   "outputs": [],
   "source": [
    "dateReviews = df.select(\"date\")"
   ]
  },
  {
   "cell_type": "code",
   "execution_count": 22,
   "metadata": {
    "collapsed": true
   },
   "outputs": [],
   "source": [
    "from datetime import datetime"
   ]
  },
  {
   "cell_type": "code",
   "execution_count": 29,
   "metadata": {
    "collapsed": true
   },
   "outputs": [],
   "source": [
    "datetime_object = datetime.strptime(\"July 4, 2017\", \"%B %d, %Y\").date()"
   ]
  },
  {
   "cell_type": "code",
   "execution_count": 34,
   "metadata": {
    "collapsed": true
   },
   "outputs": [],
   "source": [
    "datetime_object2 = datetime.strptime(\"July 4, 2017\", \"%B %d, %Y\").date()"
   ]
  },
  {
   "cell_type": "code",
   "execution_count": 35,
   "metadata": {},
   "outputs": [
    {
     "data": {
      "text/plain": [
       "True"
      ]
     },
     "execution_count": 35,
     "metadata": {},
     "output_type": "execute_result"
    }
   ],
   "source": [
    "datetime_object == datetime_object2"
   ]
  },
  {
   "cell_type": "code",
   "execution_count": 37,
   "metadata": {},
   "outputs": [
    {
     "data": {
      "text/plain": [
       "pyspark.sql.dataframe.DataFrame"
      ]
     },
     "execution_count": 37,
     "metadata": {},
     "output_type": "execute_result"
    }
   ],
   "source": [
    "type(df)"
   ]
  },
  {
   "cell_type": "code",
   "execution_count": 38,
   "metadata": {
    "collapsed": true
   },
   "outputs": [],
   "source": [
    "data = df.rdd"
   ]
  },
  {
   "cell_type": "code",
   "execution_count": 39,
   "metadata": {},
   "outputs": [
    {
     "data": {
      "text/plain": [
       "pyspark.rdd.RDD"
      ]
     },
     "execution_count": 39,
     "metadata": {},
     "output_type": "execute_result"
    }
   ],
   "source": [
    "type(data)"
   ]
  },
  {
   "cell_type": "code",
   "execution_count": 40,
   "metadata": {},
   "outputs": [
    {
     "data": {
      "text/plain": [
       "Row(_id=Row($oid=u'595ce6de9b1f26407bd9dfe7'), date=u'July 4, 2017', hotelLocation=u'Weteringschans 253, 1017 XJ Amsterdam, The Netherlands', hotelName=u' The Amsterdam Canal Hotel ', hotelStars=u'4.0', hotelUrl=u'https://www.tripadvisor.com/Hotel_Review-g188590-d3935747-Reviews-The_Amsterdam_Canal_Hotel-Amsterdam_North_Holland_Province.html', review=u'\\nAlmost in the city centre, and very quite, at the same time. Romantic view from the window (channel side room!). Very tasty, fresh and complete breakfast! Friendly staff. We would come here again:)', score=5.0, title=u'Nice small hotel in excellent place', url=u'https://www.tripadvisor.com/ShowUserReviews-g188590-d3935747-r498510542-The_Amsterdam_Canal_Hotel-Amsterdam_North_Holland_Province.html', userId=u'Kestas G')"
      ]
     },
     "execution_count": 40,
     "metadata": {},
     "output_type": "execute_result"
    }
   ],
   "source": [
    "data.first()"
   ]
  },
  {
   "cell_type": "code",
   "execution_count": 42,
   "metadata": {},
   "outputs": [
    {
     "data": {
      "text/plain": [
       "1751"
      ]
     },
     "execution_count": 42,
     "metadata": {},
     "output_type": "execute_result"
    }
   ],
   "source": [
    "df.select(\"url\").distinct().count()"
   ]
  },
  {
   "cell_type": "code",
   "execution_count": 45,
   "metadata": {
    "collapsed": true
   },
   "outputs": [],
   "source": [
    "import time\n",
    "ts = data.first()[\"date\"]\n",
    "te = data.first()[\"date\"]"
   ]
  },
  {
   "cell_type": "code",
   "execution_count": 46,
   "metadata": {
    "collapsed": true
   },
   "outputs": [],
   "source": [
    "def convertTimeDate(x):\n",
    "    ts = min(ts, datetime.striptime(x[\"date\"], \"%B %d, %Y\").date())\n",
    "    te = max(te, datetime.striptime(x[\"date\"], \"%B %d, %Y\").date())"
   ]
  },
  {
   "cell_type": "code",
   "execution_count": 47,
   "metadata": {},
   "outputs": [
    {
     "data": {
      "text/plain": [
       "PythonRDD[51] at RDD at PythonRDD.scala:48"
      ]
     },
     "execution_count": 47,
     "metadata": {},
     "output_type": "execute_result"
    }
   ],
   "source": [
    "data.map(convertTimeDate)"
   ]
  },
  {
   "cell_type": "code",
   "execution_count": 48,
   "metadata": {},
   "outputs": [
    {
     "data": {
      "text/plain": [
       "u'July 4, 2017'"
      ]
     },
     "execution_count": 48,
     "metadata": {},
     "output_type": "execute_result"
    }
   ],
   "source": [
    "ts"
   ]
  },
  {
   "cell_type": "code",
   "execution_count": 49,
   "metadata": {},
   "outputs": [
    {
     "data": {
      "text/plain": [
       "u'July 4, 2017'"
      ]
     },
     "execution_count": 49,
     "metadata": {},
     "output_type": "execute_result"
    }
   ],
   "source": [
    "te"
   ]
  },
  {
   "cell_type": "code",
   "execution_count": null,
   "metadata": {
    "collapsed": true
   },
   "outputs": [],
   "source": []
  }
 ],
 "metadata": {
  "kernelspec": {
   "display_name": "Python 2",
   "language": "python",
   "name": "python2"
  },
  "language_info": {
   "codemirror_mode": {
    "name": "ipython",
    "version": 3
   },
   "file_extension": ".py",
   "mimetype": "text/x-python",
   "name": "python",
   "nbconvert_exporter": "python",
   "pygments_lexer": "ipython3",
   "version": "3.5.3"
  }
 },
 "nbformat": 4,
 "nbformat_minor": 1
}
